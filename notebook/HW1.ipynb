{
 "cells": [
  {
   "cell_type": "code",
   "execution_count": 1,
   "id": "3618c3fd",
   "metadata": {},
   "outputs": [
    {
     "name": "stdout",
     "output_type": "stream",
     "text": [
      "3\n",
      "4\n",
      "5\n",
      "6.0\n"
     ]
    }
   ],
   "source": [
    "#площадь треугольника формула Герона\n",
    "a, b, c = int(input()), int(input()), int(input())\n",
    "p = (a + b + c) / 2\n",
    "print((p*(p-a)*(p-b)*(p-c))**0.5)"
   ]
  },
  {
   "cell_type": "code",
   "execution_count": 4,
   "id": "33917c9a",
   "metadata": {},
   "outputs": [
    {
     "name": "stdout",
     "output_type": "stream",
     "text": [
      "13\n",
      "False\n"
     ]
    }
   ],
   "source": [
    "x = int(input())\n",
    "print(-15<x<=12 or 14<x<17 or 19<=x)\n"
   ]
  },
  {
   "cell_type": "code",
   "execution_count": 8,
   "id": "f872bc13",
   "metadata": {},
   "outputs": [
    {
     "name": "stdout",
     "output_type": "stream",
     "text": [
      "-12.0\n",
      "-8.0\n",
      "*\n",
      "96.0\n"
     ]
    }
   ],
   "source": [
    "a, b, oper = float(input()), float(input()), input()\n",
    "\n",
    "if oper=='+':\n",
    "    print(a + b)\n",
    "elif oper=='-':\n",
    "    print(a - b)    \n",
    "elif oper=='/':\n",
    "    if b == 0:\n",
    "        print('Деление на 0!')\n",
    "    else:\n",
    "        print(a / b)    \n",
    "elif oper=='*':\n",
    "    print(a * b)    \n",
    "elif oper=='mod':\n",
    "    if b == 0:\n",
    "        print('Деление на 0!')\n",
    "    else:\n",
    "        print(a % b)    \n",
    "elif oper=='pow':\n",
    "    print(a ** b)    \n",
    "elif oper=='div':\n",
    "    if b == 0:\n",
    "        print('Деление на 0!')\n",
    "    else:\n",
    "        print(a // b)    \n"
   ]
  },
  {
   "cell_type": "code",
   "execution_count": 18,
   "id": "acca06a3",
   "metadata": {},
   "outputs": [
    {
     "name": "stdout",
     "output_type": "stream",
     "text": [
      "прямоугольник\n",
      "2\n",
      "3\n",
      "6\n"
     ]
    }
   ],
   "source": [
    "fig = input()\n",
    "if fig=='треугольник':\n",
    "    a, b, c = float(input()), float(input()), float(input())\n",
    "    p = (a + b + c) / 2\n",
    "    print((p*(p-a)*(p-b)*(p-c))**0.5)\n",
    "elif fig=='прямоугольник':\n",
    "    a, b = float(input()), float(input())\n",
    "    print(a * b)\n",
    "elif fig=='круг':\n",
    "    r = float(input())\n",
    "    print(3.14 * r ** 2)"
   ]
  },
  {
   "cell_type": "code",
   "execution_count": 9,
   "id": "d5f5f57b",
   "metadata": {},
   "outputs": [
    {
     "name": "stdout",
     "output_type": "stream",
     "text": [
      "23\n",
      "23\n",
      "21\n",
      "23\n",
      "21\n",
      "23\n"
     ]
    }
   ],
   "source": [
    "a, b, c = int(input()), int(input()), int(input())\n",
    "\n",
    "'''\n",
    "a b c\n",
    "a c b\n",
    "b a c\n",
    "b c a\n",
    "c a b\n",
    "c b a\n",
    "'''\n",
    "\n",
    "if a <= b <= c:\n",
    "    mn = a\n",
    "    mid = b\n",
    "    mx = c\n",
    "elif a <= c <= b:\n",
    "    mn = a\n",
    "    mid = c\n",
    "    mx = b\n",
    "elif b <= a <= c:\n",
    "    mn = b\n",
    "    mid = a\n",
    "    mx = c\n",
    "elif b <= c <= a:\n",
    "    mn = b\n",
    "    mid = c\n",
    "    mx = a\n",
    "elif c <= a <= b:\n",
    "    mn = c\n",
    "    mid = a\n",
    "    mx = b\n",
    "elif c <= b <= a:\n",
    "    mn = c\n",
    "    mid = b\n",
    "    mx = a\n",
    "\n",
    "\n",
    "\n",
    "print(mx)\n",
    "print(mn)\n",
    "print(mid)"
   ]
  },
  {
   "cell_type": "code",
   "execution_count": 13,
   "id": "0251fe79",
   "metadata": {},
   "outputs": [
    {
     "name": "stdout",
     "output_type": "stream",
     "text": [
      "1\n",
      "2\n",
      "3\n",
      "3\n",
      "1\n",
      "2\n"
     ]
    }
   ],
   "source": [
    "a,b,c=int(input ()),int(input ()),int(input ())\n",
    "if a<b: a,b=b,a  #a = 2, b = 1\n",
    "if a<c: a,c=c,a  #a = 3, c = 2\n",
    "if b<c: c,b=b,c  #c = 1, b = 2\n",
    "print (a,c,b,sep='\\n')"
   ]
  },
  {
   "cell_type": "code",
   "execution_count": 34,
   "id": "0f918444",
   "metadata": {
    "scrolled": true
   },
   "outputs": [
    {
     "name": "stdout",
     "output_type": "stream",
     "text": [
      "100\n",
      "100 программистов\n"
     ]
    }
   ],
   "source": [
    "n = int(input())\n",
    "'''\n",
    "1 - \n",
    "2-4 - а\n",
    "0, 5-9 - ов\n",
    "11-14 - ов\n",
    "'''\n",
    "ending = ''\n",
    "if 0<=n<=1000:\n",
    "    if n%10 == 0 or 5<=n%10<=9 or 11<=n%100<=14:\n",
    "        ending = 'ов'\n",
    "    elif n%10==1:\n",
    "        ending = ''\n",
    "    elif 2<=n%10<=4:\n",
    "        ending = 'а'\n",
    "    print(str(n)+' программист'+ending)\n",
    "else:\n",
    "    print('Введите корректное число от 0 до 1000')"
   ]
  },
  {
   "cell_type": "code",
   "execution_count": 57,
   "id": "e3a7b7d3",
   "metadata": {},
   "outputs": [
    {
     "name": "stdout",
     "output_type": "stream",
     "text": [
      "090234\n",
      "Счастливый\n"
     ]
    }
   ],
   "source": [
    "a = int(input())\n",
    "\n",
    "a1, a2, a3, a4, a5, a6 = a//100000, a//10000%10, a//1000%10, a//100%10, a//10%10, a%10\n",
    "if (a1 + a2 + a3) == (a4 + a5 + a6):\n",
    "    print('Счастливый')\n",
    "else:\n",
    "    print('Обычный')"
   ]
  },
  {
   "cell_type": "code",
   "execution_count": null,
   "id": "aa9a35c9",
   "metadata": {},
   "outputs": [],
   "source": []
  }
 ],
 "metadata": {
  "kernelspec": {
   "display_name": "Python 3 (ipykernel)",
   "language": "python",
   "name": "python3"
  },
  "language_info": {
   "codemirror_mode": {
    "name": "ipython",
    "version": 3
   },
   "file_extension": ".py",
   "mimetype": "text/x-python",
   "name": "python",
   "nbconvert_exporter": "python",
   "pygments_lexer": "ipython3",
   "version": "3.9.12"
  }
 },
 "nbformat": 4,
 "nbformat_minor": 5
}
