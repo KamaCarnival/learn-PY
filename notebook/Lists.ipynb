{
 "cells": [
  {
   "cell_type": "code",
   "execution_count": 1,
   "id": "b951cb22",
   "metadata": {},
   "outputs": [],
   "source": [
    "students = ['Ivan', 'Masha', 'Sasha']"
   ]
  },
  {
   "cell_type": "code",
   "execution_count": 2,
   "id": "3238bcc9",
   "metadata": {},
   "outputs": [
    {
     "name": "stdout",
     "output_type": "stream",
     "text": [
      "Hello, Ivan!\n",
      "Hello, Masha!\n",
      "Hello, Sasha!\n"
     ]
    }
   ],
   "source": [
    "for student in students:\n",
    "    print('Hello, '+student+'!')"
   ]
  },
  {
   "cell_type": "code",
   "execution_count": 3,
   "id": "3507ab7a",
   "metadata": {},
   "outputs": [
    {
     "data": {
      "text/plain": [
       "'Ivan'"
      ]
     },
     "execution_count": 3,
     "metadata": {},
     "output_type": "execute_result"
    }
   ],
   "source": [
    "students[0]"
   ]
  },
  {
   "cell_type": "code",
   "execution_count": 4,
   "id": "aa80fedd",
   "metadata": {},
   "outputs": [
    {
     "data": {
      "text/plain": [
       "'Sasha'"
      ]
     },
     "execution_count": 4,
     "metadata": {},
     "output_type": "execute_result"
    }
   ],
   "source": [
    "students[-1]"
   ]
  },
  {
   "cell_type": "code",
   "execution_count": 5,
   "id": "728ff89d",
   "metadata": {},
   "outputs": [
    {
     "data": {
      "text/plain": [
       "['Ivan', 'Masha']"
      ]
     },
     "execution_count": 5,
     "metadata": {},
     "output_type": "execute_result"
    }
   ],
   "source": [
    "students[:2]"
   ]
  },
  {
   "cell_type": "code",
   "execution_count": 6,
   "id": "cf7a8e4c",
   "metadata": {},
   "outputs": [
    {
     "data": {
      "text/plain": [
       "['Sasha', 'Masha', 'Ivan']"
      ]
     },
     "execution_count": 6,
     "metadata": {},
     "output_type": "execute_result"
    }
   ],
   "source": [
    "students[::-1]"
   ]
  },
  {
   "cell_type": "code",
   "execution_count": 7,
   "id": "701e65f3",
   "metadata": {},
   "outputs": [
    {
     "data": {
      "text/plain": [
       "3"
      ]
     },
     "execution_count": 7,
     "metadata": {},
     "output_type": "execute_result"
    }
   ],
   "source": [
    "len(students)"
   ]
  },
  {
   "cell_type": "code",
   "execution_count": 8,
   "id": "4ad536d1",
   "metadata": {},
   "outputs": [],
   "source": [
    "teachers=['Oleg', 'Alex']"
   ]
  },
  {
   "cell_type": "code",
   "execution_count": 9,
   "id": "37519a26",
   "metadata": {},
   "outputs": [
    {
     "data": {
      "text/plain": [
       "['Ivan', 'Masha', 'Sasha', 'Oleg', 'Alex']"
      ]
     },
     "execution_count": 9,
     "metadata": {},
     "output_type": "execute_result"
    }
   ],
   "source": [
    "students+teachers"
   ]
  },
  {
   "cell_type": "code",
   "execution_count": 10,
   "id": "5173eece",
   "metadata": {},
   "outputs": [
    {
     "data": {
      "text/plain": [
       "[0, 1, 0, 1, 0, 1, 0, 1]"
      ]
     },
     "execution_count": 10,
     "metadata": {},
     "output_type": "execute_result"
    }
   ],
   "source": [
    "[0,1]*4"
   ]
  },
  {
   "cell_type": "markdown",
   "id": "5ee9e404",
   "metadata": {},
   "source": [
    "# изменение списков"
   ]
  },
  {
   "cell_type": "code",
   "execution_count": 12,
   "id": "7d6f242b",
   "metadata": {},
   "outputs": [
    {
     "name": "stdout",
     "output_type": "stream",
     "text": [
      "['Ivan', 'Oleg', 'Sasha']\n"
     ]
    }
   ],
   "source": [
    "students = ['Ivan', 'Masha', 'Sasha']\n",
    "students[1] = 'Oleg'\n",
    "print(students)"
   ]
  },
  {
   "cell_type": "code",
   "execution_count": 15,
   "id": "ded1b78f",
   "metadata": {},
   "outputs": [
    {
     "name": "stdout",
     "output_type": "stream",
     "text": [
      "['Ivan', 'Masha', 'Sasha', 'Olga']\n"
     ]
    }
   ],
   "source": [
    "students = ['Ivan', 'Masha', 'Sasha']\n",
    "students.append('Olga')\n",
    "print(students)"
   ]
  },
  {
   "cell_type": "code",
   "execution_count": 17,
   "id": "dcb46aaf",
   "metadata": {},
   "outputs": [
    {
     "name": "stdout",
     "output_type": "stream",
     "text": [
      "['Ivan', 'Masha', 'Sasha', 'Olga', 'Olga', 'Olga']\n"
     ]
    }
   ],
   "source": [
    "students += ['Olga']\n",
    "print(students)"
   ]
  },
  {
   "cell_type": "code",
   "execution_count": 18,
   "id": "48f92a2e",
   "metadata": {},
   "outputs": [
    {
     "name": "stdout",
     "output_type": "stream",
     "text": [
      "['Ivan', 'Masha', 'Sasha', 'Olga', 'Olga', 'Olga', 'Boris', 'Sergey']\n"
     ]
    }
   ],
   "source": [
    "students +=['Boris','Sergey']\n",
    "print(students)"
   ]
  },
  {
   "cell_type": "code",
   "execution_count": 19,
   "id": "f7382896",
   "metadata": {},
   "outputs": [
    {
     "name": "stdout",
     "output_type": "stream",
     "text": [
      "['Ivan', 'Olga', 'Masha', 'Sasha']\n"
     ]
    }
   ],
   "source": [
    "students = ['Ivan', 'Masha', 'Sasha']\n",
    "students.insert(1, 'Olga')\n",
    "print(students)"
   ]
  },
  {
   "cell_type": "markdown",
   "id": "61457e53",
   "metadata": {},
   "source": [
    "### задача"
   ]
  },
  {
   "cell_type": "code",
   "execution_count": 23,
   "id": "8d7d3b33",
   "metadata": {},
   "outputs": [
    {
     "name": "stdout",
     "output_type": "stream",
     "text": [
      "3 ['Ivan', 'Masha', 'Sasha']\n",
      "4 ['Ivan', 'Masha', 'Sasha', 'Olga']\n",
      "8 ['Ivan', 'Masha', 'Sasha', 'Olga', 'O', 'l', 'g', 'a']\n"
     ]
    }
   ],
   "source": [
    "students = ['Ivan', 'Masha', 'Sasha']\n",
    "print(len(students), students)\n",
    "students+=['Olga']\n",
    "print(len(students), students)\n",
    "students+= 'Olga'\n",
    "print(len(students), students)"
   ]
  },
  {
   "cell_type": "code",
   "execution_count": 24,
   "id": "5a3f5aa2",
   "metadata": {},
   "outputs": [
    {
     "name": "stdout",
     "output_type": "stream",
     "text": [
      "['Ivan', 'Masha']\n"
     ]
    }
   ],
   "source": [
    "students = ['Ivan', 'Masha', 'Sasha']\n",
    "students.remove('Sasha')\n",
    "print(students)"
   ]
  },
  {
   "cell_type": "code",
   "execution_count": 26,
   "id": "cbf6e5e8",
   "metadata": {},
   "outputs": [
    {
     "name": "stdout",
     "output_type": "stream",
     "text": [
      "['Masha', 'Sasha']\n"
     ]
    }
   ],
   "source": [
    "students = ['Ivan', 'Masha', 'Sasha']\n",
    "del students[0]\n",
    "print(students)"
   ]
  },
  {
   "cell_type": "code",
   "execution_count": 30,
   "id": "2a410e81",
   "metadata": {},
   "outputs": [
    {
     "name": "stdout",
     "output_type": "stream",
     "text": [
      "Ivan is here\n",
      "Ann is out\n"
     ]
    }
   ],
   "source": [
    "students = ['Ivan', 'Masha', 'Sasha']\n",
    "if 'Ivan' in students:\n",
    "    print('Ivan is here')\n",
    "if 'Ann' not in students:\n",
    "    print('Ann is out')"
   ]
  },
  {
   "cell_type": "code",
   "execution_count": 31,
   "id": "ea8efde8",
   "metadata": {},
   "outputs": [
    {
     "name": "stdout",
     "output_type": "stream",
     "text": [
      "2\n"
     ]
    }
   ],
   "source": [
    "ind = students.index('Sasha')\n",
    "print(ind)"
   ]
  },
  {
   "cell_type": "code",
   "execution_count": 32,
   "id": "378da189",
   "metadata": {},
   "outputs": [
    {
     "ename": "ValueError",
     "evalue": "'Ann' is not in list",
     "output_type": "error",
     "traceback": [
      "\u001b[1;31m---------------------------------------------------------------------------\u001b[0m",
      "\u001b[1;31mValueError\u001b[0m                                Traceback (most recent call last)",
      "Input \u001b[1;32mIn [32]\u001b[0m, in \u001b[0;36m<cell line: 1>\u001b[1;34m()\u001b[0m\n\u001b[1;32m----> 1\u001b[0m ind \u001b[38;5;241m=\u001b[39m \u001b[43mstudents\u001b[49m\u001b[38;5;241;43m.\u001b[39;49m\u001b[43mindex\u001b[49m\u001b[43m(\u001b[49m\u001b[38;5;124;43m'\u001b[39;49m\u001b[38;5;124;43mAnn\u001b[39;49m\u001b[38;5;124;43m'\u001b[39;49m\u001b[43m)\u001b[49m\n",
      "\u001b[1;31mValueError\u001b[0m: 'Ann' is not in list"
     ]
    }
   ],
   "source": [
    "ind = students.index('Ann')"
   ]
  },
  {
   "cell_type": "markdown",
   "id": "6285dd23",
   "metadata": {},
   "source": [
    "### сортировка"
   ]
  },
  {
   "cell_type": "code",
   "execution_count": 39,
   "id": "0dbba149",
   "metadata": {},
   "outputs": [
    {
     "name": "stdout",
     "output_type": "stream",
     "text": [
      "['Sasha', 'Ivan', 'Masha']\n",
      "['Ivan', 'Masha', 'Sasha']\n",
      "['Sasha', 'Ivan', 'Masha']\n",
      "['Ivan', 'Masha', 'Sasha']\n",
      "Ivan\n",
      "Sasha\n"
     ]
    }
   ],
   "source": [
    "students = ['Sasha', 'Ivan', 'Masha']\n",
    "ordered_students = sorted(students)\n",
    "print(students)\n",
    "print(ordered_students)\n",
    "\n",
    "print(students)\n",
    "students.sort()\n",
    "print(students)\n",
    "\n",
    "print(min(students))\n",
    "print(max(students))"
   ]
  },
  {
   "cell_type": "code",
   "execution_count": 42,
   "id": "353d5c18",
   "metadata": {},
   "outputs": [
    {
     "name": "stdout",
     "output_type": "stream",
     "text": [
      "['Sasha', 'Ivan', 'Masha']\n",
      "<list_reverseiterator object at 0x000001801B3A5310>\n",
      "['Sasha', 'Ivan', 'Masha']\n",
      "['Masha', 'Ivan', 'Sasha']\n"
     ]
    }
   ],
   "source": [
    "students = ['Sasha', 'Ivan', 'Masha']\n",
    "reversed_students = reversed(students)\n",
    "print(students)\n",
    "print(reversed_students)\n",
    "\n",
    "print(students)\n",
    "students.reverse()\n",
    "print(students)\n"
   ]
  },
  {
   "cell_type": "markdown",
   "id": "9d02a076",
   "metadata": {},
   "source": [
    "### присвоение списков"
   ]
  },
  {
   "cell_type": "code",
   "execution_count": 46,
   "id": "27847994",
   "metadata": {},
   "outputs": [
    {
     "name": "stdout",
     "output_type": "stream",
     "text": [
      "[1, 'A', 2]\n",
      "[42, 'A', 2]\n",
      "[42, 'A', 30]\n"
     ]
    }
   ],
   "source": [
    "a = [1, 'A', 2]\n",
    "b = a\n",
    "print(b)\n",
    "a[0]=42\n",
    "print(b)\n",
    "b[2]=30\n",
    "print(a)"
   ]
  },
  {
   "cell_type": "markdown",
   "id": "59961ead",
   "metadata": {},
   "source": [
    "### Задача"
   ]
  },
  {
   "cell_type": "code",
   "execution_count": 47,
   "id": "29e38b62",
   "metadata": {},
   "outputs": [
    {
     "name": "stdout",
     "output_type": "stream",
     "text": [
      "[1, 2, 3] [1, 2, 3]\n",
      "[1, 10, 3] [1, 10, 3]\n",
      "[20, 10, 3] [20, 10, 3]\n",
      "[5, 6] [20, 10, 3]\n"
     ]
    }
   ],
   "source": [
    "a = [1, 2, 3]\n",
    "b = a\n",
    "print(a, b)\n",
    "\n",
    "a[1] = 10\n",
    "print(a, b)\n",
    "\n",
    "b[0] = 20\n",
    "print(a, b)\n",
    "\n",
    "a = [5, 6]\n",
    "print(a, b)"
   ]
  },
  {
   "cell_type": "markdown",
   "id": "a2004425",
   "metadata": {},
   "source": [
    "### Генерация"
   ]
  },
  {
   "cell_type": "code",
   "execution_count": 48,
   "id": "095ac5c8",
   "metadata": {},
   "outputs": [
    {
     "name": "stdout",
     "output_type": "stream",
     "text": [
      "[0, 0, 0, 0, 0]\n"
     ]
    }
   ],
   "source": [
    "a = [0] * 5\n",
    "print(a)"
   ]
  },
  {
   "cell_type": "code",
   "execution_count": 50,
   "id": "365c259b",
   "metadata": {},
   "outputs": [
    {
     "name": "stdout",
     "output_type": "stream",
     "text": [
      "[0, 0, 0, 0, 0]\n"
     ]
    }
   ],
   "source": [
    "a = [0 for i in range(5)]\n",
    "print(a)"
   ]
  },
  {
   "cell_type": "code",
   "execution_count": 51,
   "id": "22575693",
   "metadata": {},
   "outputs": [
    {
     "name": "stdout",
     "output_type": "stream",
     "text": [
      "[0, 1, 4, 9, 16]\n"
     ]
    }
   ],
   "source": [
    "a =[i*i for i in range(5)]\n",
    "print(a)"
   ]
  },
  {
   "cell_type": "code",
   "execution_count": 53,
   "id": "d49af3af",
   "metadata": {},
   "outputs": [
    {
     "name": "stdout",
     "output_type": "stream",
     "text": [
      "1 44 22 14\n",
      "[1, 44, 22, 14]\n"
     ]
    }
   ],
   "source": [
    "a = [int(i) for i in input().split()]\n",
    "print(a)"
   ]
  },
  {
   "cell_type": "markdown",
   "id": "a526497c",
   "metadata": {},
   "source": [
    "### задачки"
   ]
  },
  {
   "cell_type": "markdown",
   "id": "7d025199",
   "metadata": {},
   "source": [
    "Напишите программу, на вход которой подается одна строка с целыми числами. Программа должна вывести сумму этих чисел.\n",
    "\n",
    "Используйте метод split строки. ﻿﻿"
   ]
  },
  {
   "cell_type": "code",
   "execution_count": 56,
   "id": "cb2b4dec",
   "metadata": {},
   "outputs": [
    {
     "name": "stdout",
     "output_type": "stream",
     "text": [
      "2 -3 44 4\n",
      "47\n"
     ]
    }
   ],
   "source": [
    "a = [int(i) for i in input().split()]\n",
    "s = 0\n",
    "for i in a:\n",
    "    s += i\n",
    "print(s)"
   ]
  },
  {
   "cell_type": "markdown",
   "id": "9141a72f",
   "metadata": {},
   "source": [
    "Напишите программу, на вход которой подаётся список чисел одной строкой. Программа должна для каждого элемента этого списка вывести сумму двух его соседей. Для элементов списка, являющихся крайними, одним из соседей считается элемент, находящий на противоположном конце этого списка. Например, если на вход подаётся список \"1 3 5 6 10\", то на выход ожидается список \"13 6 9 15 7\" (без кавычек).\n",
    "\n",
    "Если на вход пришло только одно число, надо вывести его же.\n",
    "\n",
    "Вывод должен содержать одну строку с числами нового списка, разделёнными пробелом.\n",
    "\n",
    "#### Sample Input 1:\n",
    "\n",
    "1 3 5 6 10\n",
    "#### Sample Output 1:\n",
    "\n",
    "13 6 9 15 7\n",
    "#### Sample Input 2:\n",
    "\n",
    "10\n",
    "#### Sample Output 2:\n",
    "\n",
    "10"
   ]
  },
  {
   "cell_type": "code",
   "execution_count": 77,
   "id": "dbaae934",
   "metadata": {},
   "outputs": [
    {
     "name": "stdout",
     "output_type": "stream",
     "text": [
      "1 3 4 7\n",
      "10\n",
      "5\n",
      "10\n",
      "5\n"
     ]
    }
   ],
   "source": [
    "a = [int(i) for i in input().split()]\n",
    "#a = [1, 3, 5, 6, 10]\n",
    "l = len(a)\n",
    "if l == 1:\n",
    "    print(a[0])\n",
    "else:\n",
    "    for i in range(l):\n",
    "        if i==l-1:\n",
    "            x=int(a[0])\n",
    "            y=int(a[i-1])\n",
    "        else:\n",
    "            x=int(a[i+1])\n",
    "            y=int(a[i-1])\n",
    "        print(x+y)\n",
    "\n"
   ]
  },
  {
   "cell_type": "markdown",
   "id": "c054d6aa",
   "metadata": {},
   "source": [
    "Напишите программу, которая принимает на вход список чисел в одной строке и выводит на экран в одну строку значения, которые встречаются в нём более одного раза.\n",
    "\n",
    "Для решения задачи может пригодиться метод sort списка.\n",
    "\n",
    "Выводимые числа не должны повторяться, порядок их вывода может быть произвольным.\n",
    "\n",
    "#### Sample Input 1:\n",
    "\n",
    "4 8 0 3 4 2 0 3\n",
    "#### Sample Output 1:\n",
    "\n",
    "0 3 4\n",
    "#### Sample Input 2:\n",
    "\n",
    "10\n",
    "#### Sample Output 2:\n",
    "\n",
    "#### Sample Input 3:\n",
    "\n",
    "1 1 2 2 3 3\n",
    "#### Sample Output 3:\n",
    "\n",
    "1 2 3\n",
    "#### Sample Input 4:\n",
    "\n",
    "1 1 1 1 1 2 2 2\n",
    "#### Sample Output 4:\n",
    "\n",
    "1 2"
   ]
  },
  {
   "cell_type": "code",
   "execution_count": 99,
   "id": "2a6a4bf9",
   "metadata": {},
   "outputs": [
    {
     "name": "stdout",
     "output_type": "stream",
     "text": [
      "4 8 0 3 4 2 0 3\n",
      "0 3 4 "
     ]
    }
   ],
   "source": [
    "a = [int(i) for i in input().split()]\n",
    "#a = [4, 8, 0, 3, 4, 2, 0, 3]\n",
    "\n",
    "for i in sorted(a):\n",
    "    c = a.count(i)\n",
    "    if c > 1:\n",
    "        print(i, end=' ')\n",
    "        for _ in range(c):\n",
    "            a.remove(i)"
   ]
  },
  {
   "cell_type": "markdown",
   "id": "5c2b2fe3",
   "metadata": {},
   "source": [
    "# Двумерные списки"
   ]
  },
  {
   "cell_type": "code",
   "execution_count": 100,
   "id": "6dce9b95",
   "metadata": {},
   "outputs": [],
   "source": [
    " a = [[1,2,3], [4,5,6], [7,8,9]]"
   ]
  },
  {
   "cell_type": "code",
   "execution_count": 101,
   "id": "9661e06e",
   "metadata": {},
   "outputs": [
    {
     "data": {
      "text/plain": [
       "[4, 5, 6]"
      ]
     },
     "execution_count": 101,
     "metadata": {},
     "output_type": "execute_result"
    }
   ],
   "source": [
    "a[1]"
   ]
  },
  {
   "cell_type": "code",
   "execution_count": 102,
   "id": "5c22bc86",
   "metadata": {},
   "outputs": [
    {
     "data": {
      "text/plain": [
       "5"
      ]
     },
     "execution_count": 102,
     "metadata": {},
     "output_type": "execute_result"
    }
   ],
   "source": [
    "a[1][1]"
   ]
  },
  {
   "cell_type": "markdown",
   "id": "180706f5",
   "metadata": {},
   "source": [
    "## Генерация"
   ]
  },
  {
   "cell_type": "markdown",
   "id": "0d9699ba",
   "metadata": {},
   "source": [
    "### неправильная генерация\n"
   ]
  },
  {
   "cell_type": "code",
   "execution_count": 112,
   "id": "5f42c7b4",
   "metadata": {},
   "outputs": [
    {
     "name": "stdout",
     "output_type": "stream",
     "text": [
      "[[0, 0, 0], [0, 0, 0], [0, 0, 0]]\n",
      "[[5, 0, 0], [5, 0, 0], [5, 0, 0]]\n"
     ]
    }
   ],
   "source": [
    "n = 3\n",
    "a = [[0]*n]*n\n",
    "print(a)\n",
    "a[0][0] = 5\n",
    "print(a)"
   ]
  },
  {
   "cell_type": "markdown",
   "id": "f44db554",
   "metadata": {},
   "source": [
    "### правильная"
   ]
  },
  {
   "cell_type": "code",
   "execution_count": 113,
   "id": "a5ffea84",
   "metadata": {},
   "outputs": [
    {
     "name": "stdout",
     "output_type": "stream",
     "text": [
      "[[0, 0, 0], [0, 0, 0], [0, 0, 0]]\n",
      "[[5, 0, 0], [0, 0, 0], [0, 0, 0]]\n"
     ]
    }
   ],
   "source": [
    "n = 3\n",
    "a = [[0] * n for i in range(n)]\n",
    "print(a)\n",
    "a[0][0] = 5\n",
    "print(a)"
   ]
  },
  {
   "cell_type": "code",
   "execution_count": 114,
   "id": "ebcec617",
   "metadata": {},
   "outputs": [
    {
     "name": "stdout",
     "output_type": "stream",
     "text": [
      "[[0, 0, 0], [0, 0, 0], [0, 0, 0]]\n",
      "[[5, 0, 0], [0, 0, 0], [0, 0, 0]]\n"
     ]
    }
   ],
   "source": [
    "n = 3\n",
    "a = [[0 for j in range(n)] for i in range(n)]\n",
    "print(a)\n",
    "a[0][0] = 5\n",
    "print(a)"
   ]
  },
  {
   "cell_type": "markdown",
   "id": "9dd7a206",
   "metadata": {},
   "source": [
    "### поиск минимума в списке"
   ]
  },
  {
   "cell_type": "code",
   "execution_count": 115,
   "id": "907c026d",
   "metadata": {},
   "outputs": [
    {
     "name": "stdout",
     "output_type": "stream",
     "text": [
      "5 8 4 5 3 7\n",
      "3\n"
     ]
    }
   ],
   "source": [
    "a = [int(i) for i in input().split()]\n",
    "m = a[0]\n",
    "for x in a:\n",
    "    if m > x:\n",
    "        m=x\n",
    "print(m)"
   ]
  },
  {
   "cell_type": "markdown",
   "id": "7f6f58ce",
   "metadata": {},
   "source": [
    "### Сапер"
   ]
  },
  {
   "cell_type": "code",
   "execution_count": 7,
   "id": "be09bb9a",
   "metadata": {},
   "outputs": [
    {
     "name": "stdout",
     "output_type": "stream",
     "text": [
      "5 4 4\n",
      "1 1\n",
      "2 2\n",
      "3 2\n",
      "4 4\n",
      "*21.\n",
      "3*2.\n",
      "2*31\n",
      "112*\n",
      "..11\n"
     ]
    }
   ],
   "source": [
    "n, m, k = (int(i) for i in input().split())\n",
    "a = [[0 for j in range(m)] for i in range(n)]\n",
    "for i in range(k):\n",
    "    row, col = (int(i) -1 for i in input().split())\n",
    "    a[row][col] = -1\n",
    "for i in range(n):\n",
    "    for j in range(m):\n",
    "        if a[i][j] == 0:\n",
    "            for di in range(-1, 2):\n",
    "                for dj in range(-1, 2):\n",
    "                    ai = i + di\n",
    "                    aj = j + dj\n",
    "                    if 0 <= ai < n and 0 <= aj < m and a[ai][aj] == -1:\n",
    "                        a[i][j] += 1\n",
    "for i in range(n):\n",
    "    for j in range(m):\n",
    "        if a[i][j] == -1:\n",
    "            print('*', end='')\n",
    "        elif a[i][j] == 0:\n",
    "            print('.', end='')\n",
    "        else:\n",
    "            print(a[i][j], end='')\n",
    "    print()\n",
    "                    \n",
    "    "
   ]
  },
  {
   "cell_type": "markdown",
   "id": "c8847ec6",
   "metadata": {},
   "source": [
    "Напишите программу, которая считывает с консоли числа (по одному в строке) до тех пор, пока сумма введённых чисел не будет равна 0 и сразу после этого выводит сумму квадратов всех считанных чисел.\n",
    "\n",
    "Гарантируется, что в какой-то момент сумма введённых чисел окажется равной 0, после этого считывание продолжать не нужно.\n",
    "\n",
    "В примере мы считываем числа 1, -3, 5, -6, -10, 13; в этот момент замечаем, что сумма этих чисел равна нулю и выводим сумму их квадратов, не обращая внимания на то, что остались ещё не прочитанные значения.﻿\n",
    "\n",
    "### Sample Input:\n",
    "\n",
    "1\n",
    "-3\n",
    "5\n",
    "-6\n",
    "-10\n",
    "13\n",
    "4\n",
    "-8\n",
    "### Sample Output:\n",
    "\n",
    "340"
   ]
  },
  {
   "cell_type": "code",
   "execution_count": 22,
   "id": "edfb10fd",
   "metadata": {},
   "outputs": [
    {
     "name": "stdout",
     "output_type": "stream",
     "text": [
      "1\n",
      "-3\n",
      "5\n",
      "-6\n",
      "-10\n",
      "13\n",
      "340\n"
     ]
    }
   ],
   "source": [
    "#a = [1, -3, 5, -6, -10, 13, 4, -8]\n",
    "a = []\n",
    "_sum=1\n",
    "_sum2 = 0\n",
    "while _sum!=0:\n",
    "    _sum=0\n",
    "    a.append(input())\n",
    "    for i in a:\n",
    "        _sum += int(i)\n",
    "for i in a:\n",
    "    _sum2 += int(i) ** 2\n",
    "print(_sum2)"
   ]
  },
  {
   "cell_type": "markdown",
   "id": "10a5f74c",
   "metadata": {},
   "source": [
    "Напишите программу, которая выводит часть последовательности 1 2 2 3 3 3 4 4 4 4 5 5 5 5 5 ... (число повторяется столько раз, чему равно). На вход программе передаётся неотрицательное целое число n — столько элементов последовательности должна отобразить программа. На выходе ожидается последовательность чисел, записанных через пробел в одну строку.\n",
    "\n",
    "Например, если n = 7, то программа должна вывести 1 2 2 3 3 3 4.\n",
    "\n",
    "### Sample Input:\n",
    "\n",
    "7\n",
    "### Sample Output:\n",
    "\n",
    "1 2 2 3 3 3 4"
   ]
  },
  {
   "cell_type": "code",
   "execution_count": 24,
   "id": "040e0c0a",
   "metadata": {},
   "outputs": [
    {
     "name": "stdout",
     "output_type": "stream",
     "text": [
      "10\n",
      "1 2 2 3 3 3 4 4 4 4 "
     ]
    }
   ],
   "source": [
    "x = int(input())\n",
    "a = []\n",
    "for i in range(1,x+1):\n",
    "    for j in range(1, i+1):\n",
    "        a.append(j)\n",
    "        print(i, end=' ')\n",
    "        if len(a) == x:\n",
    "            break\n",
    "    if len(a) == x:\n",
    "        break"
   ]
  },
  {
   "cell_type": "markdown",
   "id": "505adceb",
   "metadata": {},
   "source": [
    "Напишите программу, которая считывает список чисел *lst* из первой строки и число *x* из второй строки, которая выводит все позиции, на которых встречается число *x* в переданном списке *lst*.\n",
    "\n",
    "Позиции нумеруются с нуля, если число *x* не встречается в списке, вывести строку \"Отсутствует\" (без кавычек, с большой буквы).\n",
    "\n",
    "Позиции должны быть выведены в одну строку, по возрастанию абсолютного значения.\n",
    "\n",
    "### Sample Input 1:\n",
    "\n",
    "5 8 2 7 8 8 2 4\n",
    "\n",
    "8\n",
    "### Sample Output 1:\n",
    "\n",
    "1 4 5\n",
    "### Sample Input 2:\n",
    "\n",
    "5 8 2 7 8 8 2 4\n",
    "\n",
    "10\n",
    "### Sample Output 2:\n",
    "\n",
    "Отсутствует"
   ]
  },
  {
   "cell_type": "code",
   "execution_count": 34,
   "id": "c7e7bb43",
   "metadata": {},
   "outputs": [
    {
     "name": "stdout",
     "output_type": "stream",
     "text": [
      "5 8 2\n",
      "3\n",
      "Отсутствует\n"
     ]
    }
   ],
   "source": [
    "lst = [int(i) for i in input().split()]\n",
    "x = int(input())\n",
    "if x in lst:\n",
    "    for i in range(len(lst)):\n",
    "        if lst[i] == x:\n",
    "            print(i, end=' ')\n",
    "else:\n",
    "    print('Отсутствует')\n",
    "            "
   ]
  },
  {
   "cell_type": "markdown",
   "id": "338b044a",
   "metadata": {},
   "source": [
    "Напишите программу, на вход которой подаётся прямоугольная матрица в виде последовательности строк. После последней строки матрицы идёт строка, содержащая только строку \"end\" (без кавычек, см. Sample Input).\n",
    "\n",
    "Программа должна вывести матрицу того же размера, у которой каждый элемент в позиции i, j равен сумме элементов первой матрицы на позициях (i-1, j), (i+1, j), (i, j-1), (i, j+1). У крайних символов соседний элемент находится с противоположной стороны матрицы.\n",
    "\n",
    "В случае одной строки/столбца элемент сам себе является соседом по соответствующему направлению.\n",
    "\n",
    "### Sample Input 1:\n",
    "\n",
    "9 5 3\n",
    "\n",
    "0 7 -1\n",
    "\n",
    "-5 2 9\n",
    "\n",
    "end\n",
    "### Sample Output 1:\n",
    "\n",
    "3 21 22\n",
    "\n",
    "10 6 19\n",
    "\n",
    "20 16 -1\n",
    "### Sample Input 2:\n",
    "\n",
    "1\n",
    "\n",
    "end\n",
    "### Sample Output 2:\n",
    "\n",
    "4"
   ]
  },
  {
   "cell_type": "code",
   "execution_count": 52,
   "id": "abeb7e3f",
   "metadata": {},
   "outputs": [
    {
     "name": "stdout",
     "output_type": "stream",
     "text": [
      "1 2 3\n",
      "4 5 6\n",
      "7 8 9\n",
      "10 11 12\n",
      "end\n",
      "19 20 21 \n",
      "19 20 21 \n",
      "31 32 33 \n",
      "31 32 33 \n"
     ]
    }
   ],
   "source": [
    "a = []\n",
    "tmp = input()\n",
    "while True:\n",
    "    if tmp == 'end':\n",
    "        break\n",
    "    else:\n",
    "        a.append([int(i) for i in tmp.split()])\n",
    "        tmp = input()\n",
    "'''\n",
    "a = [[1, 2, 3], [4, 5, 6], [7, 8, 9], [10, 11, 12]]        \n",
    "for i in range(len(a)):\n",
    "    for j in range(len(a[i])):\n",
    "        #(i-1, j), (i+1, j), (i, j-1), (i, j+1)\n",
    "        print(a[i][j], end = ' ')\n",
    "    print()\n",
    "\n",
    "print()\n",
    "print()\n",
    "'''\n",
    "for i in range(len(a)):\n",
    "    for j in range(len(a[i])):\n",
    "        \n",
    "        if i + 1 == len(a):\n",
    "            s1 = a[0][j]\n",
    "        else:\n",
    "            s1 = a[i+1][j]\n",
    "        \n",
    "        if j + 1 == len(a[i]):\n",
    "            s2 = a[i][0]\n",
    "        else:\n",
    "            s2 = a[i][j+1]\n",
    "        \n",
    "        s = (a[i-1][j] + s1 + a[i][j-1] + s2)\n",
    "        print(s, end=' ')\n",
    "        '''\n",
    "        print('a[ij] = ' + str(a[i][j]) + ' i = ' + str(i) + ' j = ' + str(j) + ' len(a) = ' + str(len(a)) + ' len(a[i] = )' + str(a[i]))\n",
    "        print(a[i-1][j], end = ' ')\n",
    "        \n",
    "        if i + 1 == len(a):\n",
    "            print(a[0][j], end = ' ')\n",
    "        else:\n",
    "            print(a[i+1][j], end = ' ')\n",
    "        \n",
    "        print(a[i][j-1], end = ' ')\n",
    "        \n",
    "        if j + 1 == len(a[i]):\n",
    "            print(a[i][0])\n",
    "        else:\n",
    "            print(a[i][j+1])\n",
    "        '''\n",
    "    print()\n",
    "\n",
    "\n",
    " "
   ]
  },
  {
   "cell_type": "markdown",
   "id": "35902360",
   "metadata": {},
   "source": [
    "# Дополнительная\n",
    "Выведите таблицу размером *n×n*, заполненную числами от *1* до *n в квадрате*\n",
    "  по спирали, выходящей из левого верхнего угла и закрученной по часовой стрелке, как показано в примере (здесь *n=5*):\n",
    "### Sample Input:\n",
    "\n",
    "5\n",
    "### Sample Output:\n",
    "\n",
    "1 2 3 4 5\n",
    "\n",
    "16 17 18 19 6\n",
    "\n",
    "15 24 25 20 7\n",
    "\n",
    "14 23 22 21 8\n",
    "\n",
    "13 12 11 10 9"
   ]
  },
  {
   "cell_type": "code",
   "execution_count": 62,
   "id": "0dde3c56",
   "metadata": {},
   "outputs": [
    {
     "name": "stdout",
     "output_type": "stream",
     "text": [
      "5\n",
      "1 2 3 4 5\n",
      "16 17 18 19 6\n",
      "15 24 25 20 7\n",
      "14 23 22 21 8\n",
      "13 12 11 10 9\n"
     ]
    }
   ],
   "source": [
    "#n - размерность матрицы n x n\n",
    "#mat - результирующая матрица\n",
    "#st - текущее значение-счетчик для записи в матрицу\n",
    "#m - коеффициент, используемый для заполнения верхней\n",
    "#матрицы последующих витков, т.к. одномерные матрицы\n",
    "#следующих витков имеют меньше значений\n",
    "n = int(input())\n",
    "mat = [[0]*n for i in range(n)]\n",
    "st, m = 1, 0\n",
    "# Заранее присваиваю значение центральному элементу\n",
    "# матрицы\n",
    "mat[n//2][n//2]=n*n\n",
    "for v in range(n//2):\n",
    "    #Заполнение верхней горизонтальной матрицы\n",
    "    for i in range(n-m):\n",
    "        mat[v][i+v] = st\n",
    "        st+=1\n",
    "        #i+=1\n",
    "    #Заполнение правой вертикальной матрицы    \n",
    "    for i in range(v+1, n-v):\n",
    "        mat[i][-v-1] = st\n",
    "        st+=1\n",
    "        #i+=1\n",
    "    #Заполнение нижней горизонтальной матрицы\n",
    "    for i in range(v+1, n-v):\n",
    "        mat[-v-1][-i-1] =st\n",
    "        st+=1\n",
    "        #i+=1\n",
    "    #Заполнение левой вертикальной матрицы\n",
    "    for i in range(v+1, n-(v+1)):\n",
    "        mat[-i-1][v]=st\n",
    "        st+=1\n",
    "        #i+=1\n",
    "    #v+=1\n",
    "    m+=2\n",
    "#Вывод результата на экран\n",
    "for i in mat:\n",
    "    print(*i)"
   ]
  },
  {
   "cell_type": "code",
   "execution_count": 63,
   "id": "4e1b17a3",
   "metadata": {},
   "outputs": [
    {
     "data": {
      "text/plain": [
       "2"
      ]
     },
     "execution_count": 63,
     "metadata": {},
     "output_type": "execute_result"
    }
   ],
   "source": [
    "5//2\n"
   ]
  },
  {
   "cell_type": "code",
   "execution_count": null,
   "id": "dfe98ad3",
   "metadata": {},
   "outputs": [],
   "source": []
  }
 ],
 "metadata": {
  "kernelspec": {
   "display_name": "Python 3 (ipykernel)",
   "language": "python",
   "name": "python3"
  },
  "language_info": {
   "codemirror_mode": {
    "name": "ipython",
    "version": 3
   },
   "file_extension": ".py",
   "mimetype": "text/x-python",
   "name": "python",
   "nbconvert_exporter": "python",
   "pygments_lexer": "ipython3",
   "version": "3.9.12"
  }
 },
 "nbformat": 4,
 "nbformat_minor": 5
}
