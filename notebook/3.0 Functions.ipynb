{
 "cells": [
  {
   "cell_type": "code",
   "execution_count": 1,
   "id": "1bd9c0e1",
   "metadata": {},
   "outputs": [],
   "source": [
    "def f(n):\n",
    "    return n * 10 + 5"
   ]
  },
  {
   "cell_type": "code",
   "execution_count": 2,
   "id": "83ec757a",
   "metadata": {},
   "outputs": [
    {
     "data": {
      "text/plain": [
       "10555"
      ]
     },
     "execution_count": 2,
     "metadata": {},
     "output_type": "execute_result"
    }
   ],
   "source": [
    "f(f(f(10)))"
   ]
  },
  {
   "cell_type": "code",
   "execution_count": 3,
   "id": "c97baf2a",
   "metadata": {},
   "outputs": [],
   "source": [
    "def min(*a):\n",
    "    m=a[0]\n",
    "    for x in a:\n",
    "        if m > x:\n",
    "            m = x\n",
    "    return m"
   ]
  },
  {
   "cell_type": "code",
   "execution_count": 6,
   "id": "e46eaf14",
   "metadata": {},
   "outputs": [
    {
     "name": "stdout",
     "output_type": "stream",
     "text": [
      "5\n",
      "3\n",
      "3\n",
      "[5, 3, 6, 10]\n"
     ]
    }
   ],
   "source": [
    "print(min(5))\n",
    "print(min(5, 3))\n",
    "print(min(5, 3, 6, 10))\n",
    "print(min([5, 3, 6, 10]))\n"
   ]
  },
  {
   "cell_type": "code",
   "execution_count": 9,
   "id": "471bb524",
   "metadata": {},
   "outputs": [],
   "source": [
    "def my_range(start, stop, step=1):\n",
    "    res = []\n",
    "    if step > 0:\n",
    "        x = start\n",
    "        while x < stop:\n",
    "            res +=[x]\n",
    "            x += step\n",
    "    elif step < 0:\n",
    "        x = start\n",
    "        while x>stop:\n",
    "            res +=[x]\n",
    "            x +=step\n",
    "    return res"
   ]
  },
  {
   "cell_type": "code",
   "execution_count": 10,
   "id": "57c1a21c",
   "metadata": {},
   "outputs": [
    {
     "name": "stdout",
     "output_type": "stream",
     "text": [
      "[2, 3, 4]\n",
      "[2, 5, 8, 11, 14]\n",
      "[15, 12, 9, 6, 3]\n"
     ]
    }
   ],
   "source": [
    "print(my_range(2, 5))\n",
    "print(my_range(2, 15, 3))\n",
    "print(my_range(15, 2, -3))\n"
   ]
  },
  {
   "cell_type": "code",
   "execution_count": 12,
   "id": "1ad05087",
   "metadata": {},
   "outputs": [
    {
     "name": "stdout",
     "output_type": "stream",
     "text": [
      "[5, 6, 7, 8, 9, 10, 11, 12, 13, 14, 15, 16, 17, 18, 19]\n"
     ]
    }
   ],
   "source": [
    "print(my_range(stop=20, start=5))"
   ]
  },
  {
   "cell_type": "code",
   "execution_count": 13,
   "id": "5a5fa325",
   "metadata": {},
   "outputs": [
    {
     "name": "stdout",
     "output_type": "stream",
     "text": [
      "0\n"
     ]
    }
   ],
   "source": [
    "def init_values():\n",
    "    a = 100\n",
    "a = 0\n",
    "init_values()\n",
    "print(a)"
   ]
  },
  {
   "cell_type": "code",
   "execution_count": 14,
   "id": "817a300b",
   "metadata": {},
   "outputs": [
    {
     "name": "stdout",
     "output_type": "stream",
     "text": [
      "0\n"
     ]
    }
   ],
   "source": [
    "def init_values(b):\n",
    "    b = 100\n",
    "b = 0\n",
    "init_values(b)\n",
    "print(b)"
   ]
  },
  {
   "cell_type": "code",
   "execution_count": 15,
   "id": "1f681d2c",
   "metadata": {},
   "outputs": [
    {
     "name": "stdout",
     "output_type": "stream",
     "text": [
      "[0]\n",
      "[0, 0]\n"
     ]
    }
   ],
   "source": [
    "def append_zero(xs):\n",
    "    xs.append(0)\n",
    "a = []\n",
    "append_zero(a)\n",
    "print(a)\n",
    "append_zero(a)\n",
    "print(a)"
   ]
  },
  {
   "cell_type": "code",
   "execution_count": 16,
   "id": "ea2a8946",
   "metadata": {},
   "outputs": [
    {
     "name": "stdout",
     "output_type": "stream",
     "text": [
      "[0]\n",
      "[0, 0]\n"
     ]
    }
   ],
   "source": [
    "def append_zero(xs):\n",
    "    xs.append(0)\n",
    "    xs = [100]\n",
    "a = []\n",
    "append_zero(a)\n",
    "print(a)\n",
    "append_zero(a)\n",
    "print(a)"
   ]
  },
  {
   "cell_type": "code",
   "execution_count": 17,
   "id": "989266ad",
   "metadata": {},
   "outputs": [
    {
     "name": "stdout",
     "output_type": "stream",
     "text": [
      "[]\n",
      "[]\n"
     ]
    }
   ],
   "source": [
    "def append_zero(xs):\n",
    "    xs = [100]\n",
    "    xs.append(0)\n",
    "    \n",
    "a = []\n",
    "append_zero(a)\n",
    "print(a)\n",
    "append_zero(a)\n",
    "print(a)"
   ]
  },
  {
   "cell_type": "code",
   "execution_count": 18,
   "id": "f2cb1af2",
   "metadata": {},
   "outputs": [
    {
     "name": "stdout",
     "output_type": "stream",
     "text": [
      "5\n"
     ]
    }
   ],
   "source": [
    "def print_value():\n",
    "    print(a)\n",
    "a = 5\n",
    "print_value()"
   ]
  },
  {
   "cell_type": "code",
   "execution_count": 19,
   "id": "65adc701",
   "metadata": {},
   "outputs": [
    {
     "ename": "UnboundLocalError",
     "evalue": "local variable 'a' referenced before assignment",
     "output_type": "error",
     "traceback": [
      "\u001b[1;31m---------------------------------------------------------------------------\u001b[0m",
      "\u001b[1;31mUnboundLocalError\u001b[0m                         Traceback (most recent call last)",
      "Input \u001b[1;32mIn [19]\u001b[0m, in \u001b[0;36m<cell line: 6>\u001b[1;34m()\u001b[0m\n\u001b[0;32m      4\u001b[0m     \u001b[38;5;28mprint\u001b[39m(a)\n\u001b[0;32m      5\u001b[0m a \u001b[38;5;241m=\u001b[39m \u001b[38;5;241m5\u001b[39m\n\u001b[1;32m----> 6\u001b[0m \u001b[43mprint_value\u001b[49m\u001b[43m(\u001b[49m\u001b[43m)\u001b[49m\n",
      "Input \u001b[1;32mIn [19]\u001b[0m, in \u001b[0;36mprint_value\u001b[1;34m()\u001b[0m\n\u001b[0;32m      1\u001b[0m \u001b[38;5;28;01mdef\u001b[39;00m \u001b[38;5;21mprint_value\u001b[39m():\n\u001b[1;32m----> 2\u001b[0m     \u001b[38;5;28mprint\u001b[39m(\u001b[43ma\u001b[49m)\n\u001b[0;32m      3\u001b[0m     a \u001b[38;5;241m=\u001b[39m \u001b[38;5;241m10\u001b[39m\n\u001b[0;32m      4\u001b[0m     \u001b[38;5;28mprint\u001b[39m(a)\n",
      "\u001b[1;31mUnboundLocalError\u001b[0m: local variable 'a' referenced before assignment"
     ]
    }
   ],
   "source": [
    "def print_value():\n",
    "    print(a)\n",
    "    a = 10\n",
    "    print(a)\n",
    "a = 5\n",
    "print_value()"
   ]
  },
  {
   "cell_type": "markdown",
   "id": "61e655c8",
   "metadata": {},
   "source": [
    "# Задачи\n",
    "\n",
    "\n",
    "Напишите функцию f(x), которая возвращает значение следующей функции, определённой на всей числовой прямой:\n",
    "\n",
    "f(x)= \\begin{cases}   1 - (x + 2)^2,\\quad &\\text{при } x\\le -2\\\\  -\\frac x2 ,\\quad &\\text{при } -2 \\lt x \\le 2\\\\   (x-2)^2 + 1,\\quad &\\text{при } 2 \\lt x \\end{cases}\n",
    "\n",
    "\n",
    "  \n",
    "\n",
    " \n",
    "Требуется реализовать только функцию, решение не должно осуществлять операций ввода-вывода.\n",
    "\n",
    "### Sample Input 1:\n",
    "\n",
    "4.5\n",
    "### Sample Output 1:\n",
    "\n",
    "7.25\n",
    "### Sample Input 2:\n",
    "\n",
    "-4.5\n",
    "### Sample Output 2:\n",
    "\n",
    "-5.25\n",
    "### Sample Input 3:\n",
    "\n",
    "1\n",
    "### Sample Output 3:\n",
    "\n",
    "-0.5"
   ]
  },
  {
   "cell_type": "code",
   "execution_count": 20,
   "id": "ae6e1af4",
   "metadata": {},
   "outputs": [],
   "source": [
    "def f(x):\n",
    "    if x<=-2:\n",
    "        res = 1-(x+2)**2\n",
    "    elif -2<x<=2:\n",
    "        res = -(x/2)\n",
    "    elif 2<x:\n",
    "        res = (x-2)**2 + 1\n",
    "    return res"
   ]
  },
  {
   "cell_type": "code",
   "execution_count": 24,
   "id": "95923ddf",
   "metadata": {},
   "outputs": [
    {
     "name": "stdout",
     "output_type": "stream",
     "text": [
      "7.25\n",
      "-5.25\n",
      "-0.5\n"
     ]
    }
   ],
   "source": [
    "print(f(4.5))\n",
    "print(f(-4.5))\n",
    "print(f(1))\n"
   ]
  },
  {
   "cell_type": "markdown",
   "id": "9c086072",
   "metadata": {},
   "source": [
    "Напишите функцию modify_list(l), которая принимает на вход список целых чисел, удаляет из него все нечётные значения, а чётные нацело делит на два. Функция не должна ничего возвращать, требуется только изменение переданного списка, например:\n",
    "\n",
    "```\n",
    "lst = [1, 2, 3, 4, 5, 6]\n",
    "print(modify_list(lst))  # None\n",
    "print(lst)               # [1, 2, 3]\n",
    "modify_list(lst)\n",
    "print(lst)               # [1]\n",
    "\n",
    "lst = [10, 5, 8, 3]\n",
    "modify_list(lst)\n",
    "print(lst)               # [5, 4]\n",
    "```\n",
    "Функция не должна осуществлять ввод/вывод информации."
   ]
  },
  {
   "cell_type": "code",
   "execution_count": 77,
   "id": "651f6da1",
   "metadata": {},
   "outputs": [],
   "source": [
    "def modify_list(l):\n",
    "    for i in range(len(l)-1, -1, -1):\n",
    "        if l[i]%2 != 0:\n",
    "            del(l[i])\n",
    "        else:\n",
    "            l[i]=int(l[i]/2)\n",
    "            \n",
    "        #print(i, l)"
   ]
  },
  {
   "cell_type": "code",
   "execution_count": 78,
   "id": "a13bae72",
   "metadata": {},
   "outputs": [
    {
     "name": "stdout",
     "output_type": "stream",
     "text": [
      "None\n",
      "[1, 2, 3]\n",
      "[1]\n",
      "[5, 4]\n"
     ]
    }
   ],
   "source": [
    "lst = [1, 2, 3, 4, 5, 6]\n",
    "print(modify_list(lst))  # None\n",
    "print(lst)               # [1, 2, 3]\n",
    "modify_list(lst)\n",
    "print(lst)               # [1]\n",
    "\n",
    "lst = [10, 5, 8, 3]\n",
    "modify_list(lst)\n",
    "print(lst)               # [5, 4]"
   ]
  },
  {
   "cell_type": "code",
   "execution_count": 79,
   "id": "d92488b0",
   "metadata": {},
   "outputs": [],
   "source": [
    "def modify_list(l):\n",
    "    for x in l[:]:\n",
    "        if x % 2 == 0:\n",
    "            l.append(x//2)\n",
    "        l.remove(x)"
   ]
  },
  {
   "cell_type": "code",
   "execution_count": 80,
   "id": "ca5209c8",
   "metadata": {},
   "outputs": [
    {
     "name": "stdout",
     "output_type": "stream",
     "text": [
      "None\n",
      "[1, 2, 3]\n",
      "[1]\n",
      "[5, 4]\n"
     ]
    }
   ],
   "source": [
    "lst = [1, 2, 3, 4, 5, 6]\n",
    "print(modify_list(lst))  # None\n",
    "print(lst)               # [1, 2, 3]\n",
    "modify_list(lst)\n",
    "print(lst)               # [1]\n",
    "\n",
    "lst = [10, 5, 8, 3]\n",
    "modify_list(lst)\n",
    "print(lst)               # [5, 4]"
   ]
  },
  {
   "cell_type": "code",
   "execution_count": null,
   "id": "98e07b90",
   "metadata": {},
   "outputs": [],
   "source": []
  }
 ],
 "metadata": {
  "kernelspec": {
   "display_name": "Python 3 (ipykernel)",
   "language": "python",
   "name": "python3"
  },
  "language_info": {
   "codemirror_mode": {
    "name": "ipython",
    "version": 3
   },
   "file_extension": ".py",
   "mimetype": "text/x-python",
   "name": "python",
   "nbconvert_exporter": "python",
   "pygments_lexer": "ipython3",
   "version": "3.9.12"
  }
 },
 "nbformat": 4,
 "nbformat_minor": 5
}
