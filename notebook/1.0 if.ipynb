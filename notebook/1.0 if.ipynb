{
 "cells": [
  {
   "cell_type": "code",
   "execution_count": 11,
   "id": "c18b38eb",
   "metadata": {},
   "outputs": [
    {
     "name": "stdout",
     "output_type": "stream",
     "text": [
      "2\n",
      "0\n",
      "zero\n",
      "введите кореектное значение0\n",
      "atatat\n"
     ]
    }
   ],
   "source": [
    "a, b = int(input()), int(input())\n",
    "if b != 0:\n",
    "    print(a / b)\n",
    "else:\n",
    "    print('zero')\n",
    "    b = int(input('введите кореектное значение'))\n",
    "    if b == 0:\n",
    "        print('atatat')\n",
    "    else:        \n",
    "        print(a / b)"
   ]
  },
  {
   "cell_type": "code",
   "execution_count": 18,
   "id": "b1572d48",
   "metadata": {},
   "outputs": [
    {
     "name": "stdout",
     "output_type": "stream",
     "text": [
      "11\n",
      "8\n",
      "9\n",
      "Недосып\n"
     ]
    }
   ],
   "source": [
    "a = int(input())\n",
    "b = int(input())\n",
    "h = int(input())\n",
    "\n",
    "if h < a:\n",
    "    print('Недосып')\n",
    "elif  h > b:\n",
    "    print('Пересып')\n",
    "else:\n",
    "    print('Это нормально')"
   ]
  },
  {
   "cell_type": "code",
   "execution_count": 17,
   "id": "67009a19",
   "metadata": {},
   "outputs": [
    {
     "name": "stdout",
     "output_type": "stream",
     "text": [
      "11\n",
      "8\n",
      "9\n",
      "НедосыпПересып\n"
     ]
    }
   ],
   "source": [
    "a, b, h = (int(input()) for _ in range(3))\n",
    "print('Это нормально'*(a <= h <= b) + 'Недосып'*(h < a) + 'Пересып'*(h > b))"
   ]
  },
  {
   "cell_type": "code",
   "execution_count": 24,
   "id": "3622b7df",
   "metadata": {},
   "outputs": [
    {
     "name": "stdout",
     "output_type": "stream",
     "text": [
      "2012\n",
      "Високосный\n"
     ]
    }
   ],
   "source": [
    "year = int(input())\n",
    "if 1900<=year<=3000:\n",
    "    if year%4 == 0 and year%100 != 0 or year%400 == 0:\n",
    "        print('Високосный')\n",
    "    else:\n",
    "        print('Обычный')\n",
    "else:\n",
    "    print('Программа должна корректно работать на числах 1900≤n≤3000.')"
   ]
  },
  {
   "cell_type": "code",
   "execution_count": null,
   "id": "a5ca5565",
   "metadata": {},
   "outputs": [],
   "source": []
  }
 ],
 "metadata": {
  "kernelspec": {
   "display_name": "Python 3 (ipykernel)",
   "language": "python",
   "name": "python3"
  },
  "language_info": {
   "codemirror_mode": {
    "name": "ipython",
    "version": 3
   },
   "file_extension": ".py",
   "mimetype": "text/x-python",
   "name": "python",
   "nbconvert_exporter": "python",
   "pygments_lexer": "ipython3",
   "version": "3.9.13"
  }
 },
 "nbformat": 4,
 "nbformat_minor": 5
}
