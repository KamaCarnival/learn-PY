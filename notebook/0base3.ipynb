{
 "cells": [
  {
   "cell_type": "code",
   "execution_count": 1,
   "id": "d405f2ac",
   "metadata": {},
   "outputs": [
    {
     "name": "stdout",
     "output_type": "stream",
     "text": [
      "str1 str2\n"
     ]
    }
   ],
   "source": [
    "a = 'str1'\n",
    "b = 'str2' \n",
    "print(a, b)"
   ]
  },
  {
   "cell_type": "code",
   "execution_count": 2,
   "id": "fb9e3f0c",
   "metadata": {},
   "outputs": [
    {
     "name": "stdout",
     "output_type": "stream",
     "text": [
      "str1str2\n"
     ]
    }
   ],
   "source": [
    "print(a+b)"
   ]
  },
  {
   "cell_type": "code",
   "execution_count": 6,
   "id": "6f96b11f",
   "metadata": {},
   "outputs": [
    {
     "name": "stdout",
     "output_type": "stream",
     "text": [
      "str1\n",
      "str2\n"
     ]
    }
   ],
   "source": [
    "print(a)\n",
    "'''\n",
    "multiline \n",
    "comment\n",
    "'''\n",
    "print(b)"
   ]
  },
  {
   "cell_type": "code",
   "execution_count": 5,
   "id": "3f0730db",
   "metadata": {},
   "outputs": [
    {
     "name": "stdout",
     "output_type": "stream",
     "text": [
      "str1\n",
      "str2\n"
     ]
    }
   ],
   "source": [
    "print(a + '\\n' + b) #asdasd"
   ]
  },
  {
   "cell_type": "code",
   "execution_count": 7,
   "id": "3639bd69",
   "metadata": {},
   "outputs": [
    {
     "data": {
      "text/plain": [
       "'12342'"
      ]
     },
     "execution_count": 7,
     "metadata": {},
     "output_type": "execute_result"
    }
   ],
   "source": [
    "\"123\" + \"42\""
   ]
  },
  {
   "cell_type": "code",
   "execution_count": null,
   "id": "dd190774",
   "metadata": {},
   "outputs": [],
   "source": []
  }
 ],
 "metadata": {
  "kernelspec": {
   "display_name": "Python 3 (ipykernel)",
   "language": "python",
   "name": "python3"
  },
  "language_info": {
   "codemirror_mode": {
    "name": "ipython",
    "version": 3
   },
   "file_extension": ".py",
   "mimetype": "text/x-python",
   "name": "python",
   "nbconvert_exporter": "python",
   "pygments_lexer": "ipython3",
   "version": "3.9.12"
  }
 },
 "nbformat": 4,
 "nbformat_minor": 5
}
