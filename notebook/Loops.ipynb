{
 "cells": [
  {
   "cell_type": "code",
   "execution_count": 3,
   "id": "d513c39b",
   "metadata": {},
   "outputs": [
    {
     "name": "stdout",
     "output_type": "stream",
     "text": [
      "5\n",
      "7\n",
      "9\n",
      "11\n",
      "13\n",
      "15\n"
     ]
    }
   ],
   "source": [
    "a = 5\n",
    "while a <= 15:\n",
    "    print(a)\n",
    "    a += 2"
   ]
  },
  {
   "cell_type": "code",
   "execution_count": 4,
   "id": "adc3122b",
   "metadata": {},
   "outputs": [
    {
     "name": "stdout",
     "output_type": "stream",
     "text": [
      "5\n",
      "7\n",
      "9\n",
      "11\n",
      "13\n",
      "15\n"
     ]
    }
   ],
   "source": [
    "a = 5\n",
    "while a <= 15:\n",
    "    if a % 2 ==1:\n",
    "        print(a)\n",
    "    a += 1"
   ]
  },
  {
   "cell_type": "code",
   "execution_count": 6,
   "id": "482a1801",
   "metadata": {},
   "outputs": [
    {
     "name": "stdout",
     "output_type": "stream",
     "text": [
      "10\n",
      "*\n",
      "**\n",
      "***\n",
      "****\n",
      "*****\n",
      "******\n",
      "*******\n",
      "********\n",
      "*********\n",
      "**********\n"
     ]
    }
   ],
   "source": [
    "n = int(input())\n",
    "c = 1\n",
    "while c<=n:\n",
    "    print('*' * c)\n",
    "    c += 1"
   ]
  },
  {
   "cell_type": "code",
   "execution_count": 7,
   "id": "9c076a30",
   "metadata": {},
   "outputs": [
    {
     "name": "stdout",
     "output_type": "stream",
     "text": [
      "15\n",
      "*\n",
      "**\n",
      "***\n",
      "****\n",
      "*****\n",
      "******\n",
      "*******\n",
      "********\n",
      "*********\n",
      "**********\n",
      "***********\n",
      "************\n",
      "*************\n",
      "**************\n",
      "***************\n"
     ]
    }
   ],
   "source": [
    "n = int(input())\n",
    "stars = '*'\n",
    "while len(stars) <= n:\n",
    "    print(stars)\n",
    "    stars += '*'"
   ]
  },
  {
   "cell_type": "code",
   "execution_count": 10,
   "id": "85db603e",
   "metadata": {},
   "outputs": [
    {
     "name": "stdout",
     "output_type": "stream",
     "text": [
      "5\n",
      "-3\n",
      "8\n",
      "4\n",
      "0\n",
      "14\n"
     ]
    }
   ],
   "source": [
    "i = int(input())\n",
    "s = 0\n",
    "while i!=0:\n",
    "    s += i\n",
    "    i = int(input())\n",
    "print(s)"
   ]
  },
  {
   "cell_type": "code",
   "execution_count": 26,
   "id": "898163c0",
   "metadata": {},
   "outputs": [
    {
     "name": "stdout",
     "output_type": "stream",
     "text": [
      "5\n",
      "7\n",
      "35\n"
     ]
    }
   ],
   "source": [
    "a, b = int(input()), int(input())\n",
    "d=1\n",
    "while d%a!=0 or d%b!=0:\n",
    "    d += 1\n",
    "print(d)"
   ]
  },
  {
   "cell_type": "code",
   "execution_count": 33,
   "id": "dadead8d",
   "metadata": {},
   "outputs": [
    {
     "name": "stdout",
     "output_type": "stream",
     "text": [
      "100\n",
      "100\n",
      "101\n"
     ]
    }
   ],
   "source": [
    "i=0\n",
    "while i <= 100:\n",
    "    i = int(input())\n",
    "    if i<10:\n",
    "        continue\n",
    "    if i>100:\n",
    "        break\n",
    "    print(i)"
   ]
  },
  {
   "cell_type": "code",
   "execution_count": 35,
   "id": "c8582bc4",
   "metadata": {},
   "outputs": [
    {
     "name": "stdout",
     "output_type": "stream",
     "text": [
      "3\n",
      "***\n",
      "***\n",
      "***\n"
     ]
    }
   ],
   "source": [
    "n = int(input())\n",
    "for i in range(n):\n",
    "    print('*'*n)"
   ]
  },
  {
   "cell_type": "code",
   "execution_count": 49,
   "id": "c4cc9a04",
   "metadata": {},
   "outputs": [
    {
     "name": "stdout",
     "output_type": "stream",
     "text": [
      "3\n",
      "***\n",
      "***\n",
      "***\n"
     ]
    }
   ],
   "source": [
    "n = int(input())\n",
    "for i in range(n):\n",
    "    for j in range(n):\n",
    "        print('*', end='')\n",
    "    print()"
   ]
  },
  {
   "cell_type": "code",
   "execution_count": 2,
   "id": "27b5a98e",
   "metadata": {},
   "outputs": [
    {
     "name": "stdout",
     "output_type": "stream",
     "text": [
      "1\n",
      "5\n",
      "3\n",
      "9\n",
      "\t3\t4\t5\t6\t7\t8\t9\t\n",
      "1\t3\t4\t5\t6\t7\t8\t9\t\n",
      "2\t6\t8\t10\t12\t14\t16\t18\t\n",
      "3\t9\t12\t15\t18\t21\t24\t27\t\n",
      "4\t12\t16\t20\t24\t28\t32\t36\t\n",
      "5\t15\t20\t25\t30\t35\t40\t45\t\n"
     ]
    }
   ],
   "source": [
    "a, b, c, d = int(input()),int(input()),int(input()),int(input())\n",
    "\n",
    "if a<=b<=10 and c<=d<=10:\n",
    "    \n",
    "    \n",
    "    print('', end='\\t')\n",
    "    for x in range(c,d+1):\n",
    "        print(x, end='\\t')\n",
    "    print('')\n",
    "    for y in range(a, b+1):\n",
    "        print(y, end='')\n",
    "        print('', end='\\t')\n",
    "        for x in range(c,d+1):\n",
    "            print(x*y, end='\\t')\n",
    "        print('')\n",
    "\n",
    "        \n",
    "    \n",
    "else:\n",
    "    print('некорректный ввод')"
   ]
  },
  {
   "cell_type": "code",
   "execution_count": 79,
   "id": "58f5161e",
   "metadata": {},
   "outputs": [
    {
     "name": "stdout",
     "output_type": "stream",
     "text": [
      "3 7\n",
      "15\n"
     ]
    }
   ],
   "source": [
    "a, b = input().split()\n",
    "a = int(a)\n",
    "b = int(b)\n",
    "s = 0\n",
    "for i in range(a, b+1):\n",
    "    if i%2 == 1:\n",
    "        s+=i\n",
    "print(s)"
   ]
  },
  {
   "cell_type": "code",
   "execution_count": 80,
   "id": "1d679361",
   "metadata": {},
   "outputs": [
    {
     "name": "stdout",
     "output_type": "stream",
     "text": [
      "3 7\n",
      "15\n"
     ]
    }
   ],
   "source": [
    "a, b = input().split()\n",
    "a = int(a)\n",
    "b = int(b)\n",
    "s = 0\n",
    "if a%2 ==0:\n",
    "    a+=1\n",
    "for i in range(a, b+1, 2):\n",
    "    if i%2 == 1:\n",
    "        s+=i\n",
    "print(s)"
   ]
  },
  {
   "cell_type": "code",
   "execution_count": 81,
   "id": "aa15bedd",
   "metadata": {},
   "outputs": [
    {
     "name": "stdout",
     "output_type": "stream",
     "text": [
      "3 7\n",
      "15\n"
     ]
    }
   ],
   "source": [
    "a, b = (int(i) for i in input().split())\n",
    "s = 0\n",
    "if a%2 ==0:\n",
    "    a+=1\n",
    "for i in range(a, b+1, 2):\n",
    "    if i%2 == 1:\n",
    "        s+=i\n",
    "print(s)"
   ]
  },
  {
   "cell_type": "code",
   "execution_count": 87,
   "id": "7ed35e1a",
   "metadata": {},
   "outputs": [
    {
     "name": "stdout",
     "output_type": "stream",
     "text": [
      "-5\n",
      "12\n",
      "-3\n",
      "0\n",
      "3\n",
      "6\n",
      "9\n",
      "12\n",
      "4.5\n"
     ]
    }
   ],
   "source": [
    "a, b = int(input()), int(input())\n",
    "s = 0\n",
    "i = 0\n",
    "for n in range(a, b+1):\n",
    "    if n%3 ==0:\n",
    "        i=i+1\n",
    "        s+=n\n",
    "print(s/i)"
   ]
  },
  {
   "cell_type": "code",
   "execution_count": null,
   "id": "399ba095",
   "metadata": {},
   "outputs": [],
   "source": []
  }
 ],
 "metadata": {
  "kernelspec": {
   "display_name": "Python 3 (ipykernel)",
   "language": "python",
   "name": "python3"
  },
  "language_info": {
   "codemirror_mode": {
    "name": "ipython",
    "version": 3
   },
   "file_extension": ".py",
   "mimetype": "text/x-python",
   "name": "python",
   "nbconvert_exporter": "python",
   "pygments_lexer": "ipython3",
   "version": "3.9.12"
  }
 },
 "nbformat": 4,
 "nbformat_minor": 5
}
