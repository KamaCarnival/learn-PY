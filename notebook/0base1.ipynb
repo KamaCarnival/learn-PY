{
 "cells": [
  {
   "cell_type": "code",
   "execution_count": 1,
   "id": "4507c1e6",
   "metadata": {},
   "outputs": [],
   "source": [
    "a =3"
   ]
  },
  {
   "cell_type": "code",
   "execution_count": 2,
   "id": "f5e01aaa",
   "metadata": {},
   "outputs": [
    {
     "data": {
      "text/plain": [
       "3"
      ]
     },
     "execution_count": 2,
     "metadata": {},
     "output_type": "execute_result"
    }
   ],
   "source": [
    "a"
   ]
  },
  {
   "cell_type": "code",
   "execution_count": 3,
   "id": "51fde3e4",
   "metadata": {},
   "outputs": [],
   "source": [
    "a += 4"
   ]
  },
  {
   "cell_type": "code",
   "execution_count": 4,
   "id": "8ad9b39d",
   "metadata": {},
   "outputs": [
    {
     "data": {
      "text/plain": [
       "7"
      ]
     },
     "execution_count": 4,
     "metadata": {},
     "output_type": "execute_result"
    }
   ],
   "source": [
    "a"
   ]
  },
  {
   "cell_type": "code",
   "execution_count": 5,
   "id": "7c960351",
   "metadata": {},
   "outputs": [
    {
     "data": {
      "text/plain": [
       "14"
      ]
     },
     "execution_count": 5,
     "metadata": {},
     "output_type": "execute_result"
    }
   ],
   "source": [
    "a\n",
    "2 * a"
   ]
  },
  {
   "cell_type": "code",
   "execution_count": 6,
   "id": "6265bf66",
   "metadata": {},
   "outputs": [
    {
     "name": "stdout",
     "output_type": "stream",
     "text": [
      "7\n",
      "14\n"
     ]
    }
   ],
   "source": [
    "print(a)\n",
    "print(2*a)"
   ]
  },
  {
   "cell_type": "code",
   "execution_count": 8,
   "id": "62f054cb",
   "metadata": {},
   "outputs": [
    {
     "name": "stdout",
     "output_type": "stream",
     "text": [
      "enter your nameasdas\n",
      "Hello asdas\n"
     ]
    }
   ],
   "source": [
    "name = input('enter your name')\n",
    "print('Hello', name)"
   ]
  },
  {
   "cell_type": "code",
   "execution_count": 9,
   "id": "4fb1ce66",
   "metadata": {},
   "outputs": [
    {
     "name": "stdout",
     "output_type": "stream",
     "text": [
      "12\n",
      "24\n"
     ]
    }
   ],
   "source": [
    "a = int(input())\n",
    "print(a * 2)"
   ]
  },
  {
   "cell_type": "code",
   "execution_count": 10,
   "id": "828d1961",
   "metadata": {},
   "outputs": [
    {
     "name": "stdout",
     "output_type": "stream",
     "text": [
      "12\n",
      "32\n",
      "384\n"
     ]
    }
   ],
   "source": [
    "a = int(input())\n",
    "b = int(input())\n",
    "print(a * b)"
   ]
  },
  {
   "cell_type": "code",
   "execution_count": 14,
   "id": "34f1ec50",
   "metadata": {},
   "outputs": [
    {
     "name": "stdout",
     "output_type": "stream",
     "text": [
      "512\n",
      "8\n",
      "32\n"
     ]
    }
   ],
   "source": [
    "x = int(input())\n",
    "print(x // 60)\n",
    "print(x % 60)"
   ]
  },
  {
   "cell_type": "code",
   "execution_count": null,
   "id": "8097eb2d",
   "metadata": {},
   "outputs": [
    {
     "name": "stdout",
     "output_type": "stream",
     "text": [
      "480\n"
     ]
    }
   ],
   "source": [
    "remaining = int(input())\n",
    "h = int(input())\n",
    "m = int(input())\n",
    "\n",
    "sleeptime = h*60 + m\n",
    "\n",
    "\n",
    "print((remaining+sleeptime) // 60)\n",
    "print((remaining+sleeptime) % 60)"
   ]
  },
  {
   "cell_type": "code",
   "execution_count": null,
   "id": "548661de",
   "metadata": {},
   "outputs": [],
   "source": []
  }
 ],
 "metadata": {
  "kernelspec": {
   "display_name": "Python 3 (ipykernel)",
   "language": "python",
   "name": "python3"
  },
  "language_info": {
   "codemirror_mode": {
    "name": "ipython",
    "version": 3
   },
   "file_extension": ".py",
   "mimetype": "text/x-python",
   "name": "python",
   "nbconvert_exporter": "python",
   "pygments_lexer": "ipython3",
   "version": "3.9.12"
  }
 },
 "nbformat": 4,
 "nbformat_minor": 5
}
