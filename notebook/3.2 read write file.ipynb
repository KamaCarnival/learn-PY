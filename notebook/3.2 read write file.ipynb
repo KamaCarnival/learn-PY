{
 "cells": [
  {
   "cell_type": "markdown",
   "id": "7c69398e",
   "metadata": {},
   "source": [
    "# чтение"
   ]
  },
  {
   "cell_type": "code",
   "execution_count": 8,
   "id": "dee4d471",
   "metadata": {},
   "outputs": [],
   "source": [
    "inf = open('file.txt', 'r')\n",
    "s1 = inf.readline()\n",
    "s2 = inf.readline()\n",
    "s = inf.readline().strip() # '\\t abc \\n'.strip() -> 'abc'\n",
    "inf.close()"
   ]
  },
  {
   "cell_type": "code",
   "execution_count": 6,
   "id": "8e5bbdad",
   "metadata": {},
   "outputs": [],
   "source": [
    "with open('file.txt') as inf:\n",
    "    s1 = inf.readline()\n",
    "    s2 = inf.readline()\n",
    "# здесь файл уже закрыт"
   ]
  },
  {
   "cell_type": "code",
   "execution_count": 9,
   "id": "d81912f7",
   "metadata": {},
   "outputs": [
    {
     "name": "stdout",
     "output_type": "stream",
     "text": [
      "first string\n",
      "\n",
      "second string\n",
      "\n",
      "third string\n"
     ]
    }
   ],
   "source": [
    "print(s1)\n",
    "print(s2)\n",
    "print(s)"
   ]
  },
  {
   "cell_type": "code",
   "execution_count": 11,
   "id": "7784fd8b",
   "metadata": {},
   "outputs": [
    {
     "name": "stdout",
     "output_type": "stream",
     "text": [
      ".\\files\\file in dir.txt\n"
     ]
    }
   ],
   "source": [
    "import os\n",
    "path = os.path.join('.','files', 'file in dir.txt')\n",
    "print(path)"
   ]
  },
  {
   "cell_type": "code",
   "execution_count": 13,
   "id": "6c70396b",
   "metadata": {},
   "outputs": [
    {
     "name": "stdout",
     "output_type": "stream",
     "text": [
      "first string\n",
      "second string\n",
      "third string\n",
      "1122\n",
      "\n",
      "С„С‹РІРІРІ\n",
      "\n",
      "asdas\n",
      "С‹С„РІС„С‹fasfas\n"
     ]
    }
   ],
   "source": [
    "with open('file.txt') as inf:\n",
    "    for line in inf:\n",
    "        line = line.strip()\n",
    "        print(line)"
   ]
  },
  {
   "cell_type": "markdown",
   "id": "87dcf093",
   "metadata": {},
   "source": [
    "# запись "
   ]
  },
  {
   "cell_type": "code",
   "execution_count": 17,
   "id": "26188ca9",
   "metadata": {},
   "outputs": [],
   "source": [
    "ouf = open('file.txt', 'w')\n",
    "ouf.write('Some text')\n",
    "ouf.write('another text\\n')\n",
    "ouf.write(str(25))\n",
    "#ouf.write(25) #ошибка\n",
    "ouf.close()"
   ]
  },
  {
   "cell_type": "code",
   "execution_count": 18,
   "id": "fb2c3e37",
   "metadata": {},
   "outputs": [],
   "source": [
    "with open('file.txt', 'w') as ouf:\n",
    "    ouf.write('Some text\\n')\n",
    "    ouf.write('another text')\n",
    "    ouf.write(str(25))"
   ]
  },
  {
   "cell_type": "code",
   "execution_count": null,
   "id": "9d7c6844",
   "metadata": {},
   "outputs": [],
   "source": []
  }
 ],
 "metadata": {
  "kernelspec": {
   "display_name": "Python 3 (ipykernel)",
   "language": "python",
   "name": "python3"
  },
  "language_info": {
   "codemirror_mode": {
    "name": "ipython",
    "version": 3
   },
   "file_extension": ".py",
   "mimetype": "text/x-python",
   "name": "python",
   "nbconvert_exporter": "python",
   "pygments_lexer": "ipython3",
   "version": "3.9.13"
  }
 },
 "nbformat": 4,
 "nbformat_minor": 5
}
