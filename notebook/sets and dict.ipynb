{
 "cells": [
  {
   "cell_type": "markdown",
   "id": "72bf36e9",
   "metadata": {},
   "source": [
    "# множества"
   ]
  },
  {
   "cell_type": "code",
   "execution_count": 1,
   "id": "19efa13a",
   "metadata": {},
   "outputs": [
    {
     "name": "stdout",
     "output_type": "stream",
     "text": [
      "set()\n"
     ]
    }
   ],
   "source": [
    "s = set()\n",
    "print(s)"
   ]
  },
  {
   "cell_type": "code",
   "execution_count": 2,
   "id": "06484f22",
   "metadata": {},
   "outputs": [
    {
     "name": "stdout",
     "output_type": "stream",
     "text": [
      "{'orange', 'pear', 'apple', 'banana'}\n"
     ]
    }
   ],
   "source": [
    "basket={'apple', 'orange', 'apple', 'pear', 'orange', 'banana'}\n",
    "print(basket)"
   ]
  },
  {
   "cell_type": "code",
   "execution_count": 3,
   "id": "588e1b09",
   "metadata": {},
   "outputs": [
    {
     "name": "stdout",
     "output_type": "stream",
     "text": [
      "True\n",
      "False\n"
     ]
    }
   ],
   "source": [
    "print('orange' in basket)\n",
    "print('python' in basket)"
   ]
  },
  {
   "cell_type": "code",
   "execution_count": 14,
   "id": "6eb8fd2e",
   "metadata": {},
   "outputs": [
    {
     "name": "stdout",
     "output_type": "stream",
     "text": [
      "4 {'orange', 'pear', 'apple', 'banana'}\n",
      "5 {'kiwi', 'apple', 'orange', 'banana', 'pear'}\n",
      "{'apple', 'orange', 'banana', 'pear'}\n"
     ]
    }
   ],
   "source": [
    "elem = 'kiwi'\n",
    "basket={'apple', 'orange', 'apple', 'pear', 'orange', 'banana'}\n",
    "\n",
    "print(len(basket), basket)\n",
    "basket.add(elem)\n",
    "print(len(basket), basket)\n",
    "basket.remove(elem)\n",
    "print(basket)\n"
   ]
  },
  {
   "cell_type": "code",
   "execution_count": 11,
   "id": "d5b301e6",
   "metadata": {},
   "outputs": [
    {
     "ename": "KeyError",
     "evalue": "'kiwi'",
     "output_type": "error",
     "traceback": [
      "\u001b[1;31m---------------------------------------------------------------------------\u001b[0m",
      "\u001b[1;31mKeyError\u001b[0m                                  Traceback (most recent call last)",
      "Input \u001b[1;32mIn [11]\u001b[0m, in \u001b[0;36m<cell line: 1>\u001b[1;34m()\u001b[0m\n\u001b[1;32m----> 1\u001b[0m \u001b[43mbasket\u001b[49m\u001b[38;5;241;43m.\u001b[39;49m\u001b[43mremove\u001b[49m\u001b[43m(\u001b[49m\u001b[43melem\u001b[49m\u001b[43m)\u001b[49m\n\u001b[0;32m      2\u001b[0m \u001b[38;5;28mprint\u001b[39m(basket)\n",
      "\u001b[1;31mKeyError\u001b[0m: 'kiwi'"
     ]
    }
   ],
   "source": [
    "basket.remove(elem) #Error\n",
    "print(basket)\n"
   ]
  },
  {
   "cell_type": "code",
   "execution_count": 12,
   "id": "eee4ff44",
   "metadata": {},
   "outputs": [
    {
     "name": "stdout",
     "output_type": "stream",
     "text": [
      "{'kiwi', 'apple', 'orange', 'banana', 'pear'}\n",
      "{'apple', 'orange', 'banana', 'pear'}\n",
      "{'apple', 'orange', 'banana', 'pear'}\n"
     ]
    }
   ],
   "source": [
    "basket.add(elem)\n",
    "print(basket)\n",
    "basket.discard(elem)\n",
    "print(basket)\n",
    "basket.discard(elem)\n",
    "print(basket)\n"
   ]
  },
  {
   "cell_type": "code",
   "execution_count": 13,
   "id": "5a412e39",
   "metadata": {},
   "outputs": [
    {
     "name": "stdout",
     "output_type": "stream",
     "text": [
      "set()\n"
     ]
    }
   ],
   "source": [
    "basket.clear()\n",
    "print(basket)"
   ]
  },
  {
   "cell_type": "code",
   "execution_count": 15,
   "id": "0c1367eb",
   "metadata": {},
   "outputs": [
    {
     "name": "stdout",
     "output_type": "stream",
     "text": [
      "orange\n",
      "pear\n",
      "banana\n",
      "apple\n"
     ]
    }
   ],
   "source": [
    "basket={'apple', 'orange', 'apple', 'pear', 'orange', 'banana'}\n",
    "for x in basket:\n",
    "    print(x)"
   ]
  },
  {
   "cell_type": "markdown",
   "id": "b24a5a33",
   "metadata": {},
   "source": [
    "# Словари\n"
   ]
  },
  {
   "cell_type": "code",
   "execution_count": 2,
   "id": "f51af027",
   "metadata": {},
   "outputs": [
    {
     "name": "stdout",
     "output_type": "stream",
     "text": [
      "293\n",
      "100\n"
     ]
    }
   ],
   "source": [
    "d = {'a': 293, 10:100}\n",
    "print(d['a'])\n",
    "print(d[10])"
   ]
  },
  {
   "cell_type": "code",
   "execution_count": 5,
   "id": "0c0a06ff",
   "metadata": {},
   "outputs": [
    {
     "name": "stdout",
     "output_type": "stream",
     "text": [
      "True\n",
      "False\n"
     ]
    }
   ],
   "source": [
    "d = {'a': 293, 10:100}\n",
    "print('a' in d)\n",
    "print('a' not in d)"
   ]
  },
  {
   "cell_type": "code",
   "execution_count": 7,
   "id": "e4f3e1d5",
   "metadata": {},
   "outputs": [
    {
     "name": "stdout",
     "output_type": "stream",
     "text": [
      "200\n"
     ]
    }
   ],
   "source": [
    "d[10] = 200\n",
    "print(d[10])"
   ]
  },
  {
   "cell_type": "code",
   "execution_count": 8,
   "id": "8db5437a",
   "metadata": {},
   "outputs": [
    {
     "ename": "KeyError",
     "evalue": "'asdasd'",
     "output_type": "error",
     "traceback": [
      "\u001b[1;31m---------------------------------------------------------------------------\u001b[0m",
      "\u001b[1;31mKeyError\u001b[0m                                  Traceback (most recent call last)",
      "Input \u001b[1;32mIn [8]\u001b[0m, in \u001b[0;36m<cell line: 1>\u001b[1;34m()\u001b[0m\n\u001b[1;32m----> 1\u001b[0m \u001b[38;5;28mprint\u001b[39m(\u001b[43md\u001b[49m\u001b[43m[\u001b[49m\u001b[38;5;124;43m'\u001b[39;49m\u001b[38;5;124;43masdasd\u001b[39;49m\u001b[38;5;124;43m'\u001b[39;49m\u001b[43m]\u001b[49m)\n",
      "\u001b[1;31mKeyError\u001b[0m: 'asdasd'"
     ]
    }
   ],
   "source": [
    "print(d['asdasd'])"
   ]
  },
  {
   "cell_type": "code",
   "execution_count": 9,
   "id": "90dfe3b1",
   "metadata": {},
   "outputs": [
    {
     "name": "stdout",
     "output_type": "stream",
     "text": [
      "None\n"
     ]
    }
   ],
   "source": [
    "print(d.get('asdasd'))"
   ]
  },
  {
   "cell_type": "code",
   "execution_count": 10,
   "id": "ecb72d11",
   "metadata": {},
   "outputs": [
    {
     "name": "stdout",
     "output_type": "stream",
     "text": [
      "{'a': 293}\n"
     ]
    }
   ],
   "source": [
    "d = {'a': 293, 10:100}\n",
    "del d[10]\n",
    "print(d)"
   ]
  },
  {
   "cell_type": "markdown",
   "id": "7b73b31f",
   "metadata": {},
   "source": [
    "### Изменяемы\n",
    "### Элементы не имеют порядка\n",
    "### Все ключи различны\n",
    "### Ключи не изменяемы"
   ]
  },
  {
   "cell_type": "code",
   "execution_count": 13,
   "id": "03541245",
   "metadata": {},
   "outputs": [
    {
     "name": "stdout",
     "output_type": "stream",
     "text": [
      "C A T G \n",
      "C A T G \n",
      "14 12 9 18 \n",
      "C 14; A 12; T 9; G 18; \n"
     ]
    }
   ],
   "source": [
    "d = {'C':14, 'A': 12, 'T': 9, 'G': 18}\n",
    "\n",
    "for key in d:\n",
    "    print(key, end=' ')\n",
    "print()\n",
    "for key in d.keys():\n",
    "    print(key, end=' ')    \n",
    "print()\n",
    "for value in d.values():\n",
    "    print(value, end=' ')    \n",
    "print()\n",
    "for key, value in d.items():\n",
    "    print(key, value, end='; ')    \n",
    "print()"
   ]
  },
  {
   "cell_type": "code",
   "execution_count": 20,
   "id": "aa4cdcb2",
   "metadata": {},
   "outputs": [
    {
     "name": "stdout",
     "output_type": "stream",
     "text": [
      "{'A000AA00': ['Иванов Иван']} ['Иванов Иван']\n",
      "{'A000AA00': ['Иванов Иван', 'Петров Петр']} ['Иванов Иван', 'Петров Петр']\n"
     ]
    }
   ],
   "source": [
    "am = {'A000AA00': ['Иванов Иван']}\n",
    "print(am, am['A000AA00'])\n",
    "am = {'A000AA00': ['Иванов Иван', 'Петров Петр']}\n",
    "print(am, am['A000AA00'])"
   ]
  },
  {
   "cell_type": "code",
   "execution_count": 25,
   "id": "849027ea",
   "metadata": {},
   "outputs": [
    {
     "name": "stdout",
     "output_type": "stream",
     "text": [
      "{'A000AA00': ['Иванов Иван']}\n",
      "{'A000AA00': ['Иванов Иван', 'dsa']}\n",
      "{'A000AA00': ['Иванов Иван', 'dsa']}\n"
     ]
    }
   ],
   "source": [
    "am = {'A000AA00': ['Иванов Иван']}\n",
    "z = am\n",
    "print(z)\n",
    "z['A000AA00'].append('dsa')\n",
    "print(z)\n",
    "print(am)"
   ]
  },
  {
   "cell_type": "markdown",
   "id": "e6fe177e",
   "metadata": {},
   "source": [
    "Напишите функцию update_dictionary(d, key, value), которая принимает на вход словарь _d_ и два числа: _key_ и _value_.\n",
    "\n",
    "Если ключ _key_ есть в словаре _d_, то добавьте значение _value_ в список, который хранится по этому ключу.\n",
    "Если ключа _key_ нет в словаре, то нужно добавить значение в список по ключу 2 * _key_. Если и ключа 2 * _key_ нет, то нужно добавить ключ 2 * _key_ в словарь и сопоставить ему список из переданного элемента _[value]_.\n",
    "\n",
    "Требуется реализовать только эту функцию, кода вне её не должно быть.\n",
    "Функция не должна вызывать внутри себя функции input и print.\n",
    "\n",
    "Пример работы функции:\n",
    "```\n",
    "d = {}\n",
    "print(update_dictionary(d, 1, -1))  # None\n",
    "print(d)                            # {2: [-1]}\n",
    "update_dictionary(d, 2, -2)\n",
    "print(d)                            # {2: [-1, -2]}\n",
    "update_dictionary(d, 1, -3)\n",
    "print(d)                            # {2: [-1, -2, -3]}\n",
    "```"
   ]
  },
  {
   "cell_type": "code",
   "execution_count": 45,
   "id": "7923e79d",
   "metadata": {},
   "outputs": [
    {
     "name": "stdout",
     "output_type": "stream",
     "text": [
      "None\n",
      "{0: [-5]}\n",
      "{0: [-5], 2: [-1]}\n",
      "{0: [-5], 2: [-1, -2]}\n",
      "{0: [-5], 2: [-1, -2], 6: [-3]}\n"
     ]
    }
   ],
   "source": [
    "def update_dictionary(d, key, value):\n",
    "    if key in d:\n",
    "        if d.get(key) == None:\n",
    "            d[key] = [value]\n",
    "        else:\n",
    "            d[key].append(value)\n",
    "    else:\n",
    "        if d.get(2*key) == None:\n",
    "            d[2*key] = [value]\n",
    "        else:\n",
    "            d[2*key].append(value)\n",
    "        \n",
    "\n",
    "x = {}\n",
    "print(update_dictionary(x, 0, -5))   # None\n",
    "print(x)                             # {0: [-5]}  (0*0=2)\n",
    "update_dictionary(x, 1, -1)\n",
    "print(x)                             # {0: [-5], 2: [-1]} (тк индекса 1 нет создаем key*2=2)\n",
    "update_dictionary(x, 2, -2)\n",
    "print(x)                             # {0: [-5], 2: [-1, -2]} (тк индекс 2 есть добавляем -2 в него)\n",
    "update_dictionary(x, 3, -3)\n",
    "print(x)                             # 0: [-5], 2: [-1, -2], 6: [-3]}"
   ]
  },
  {
   "cell_type": "code",
   "execution_count": 46,
   "id": "fd1c0299",
   "metadata": {},
   "outputs": [
    {
     "name": "stdout",
     "output_type": "stream",
     "text": [
      "None\n",
      "{2: [-1]}\n",
      "{2: [-1, -2]}\n",
      "{2: [-1, -2, -3]}\n"
     ]
    }
   ],
   "source": [
    "d = {}\n",
    "print(update_dictionary(d, 1, -1))  # None\n",
    "print(d)                            # {2: [-1]}\n",
    "update_dictionary(d, 2, -2)\n",
    "print(d)                            # {2: [-1, -2]}\n",
    "update_dictionary(d, 1, -3)\n",
    "print(d)                            # {2: [-1, -2, -3]}"
   ]
  },
  {
   "cell_type": "markdown",
   "id": "92a1e78a",
   "metadata": {},
   "source": [
    "Когда Антон прочитал «Войну и мир», ему стало интересно, сколько слов и в каком количестве используется в этой книге.\n",
    "\n",
    "Помогите Антону написать упрощённую версию такой программы, которая сможет подсчитать слова, разделённые пробелом и вывести получившуюся статистику.\n",
    "\n",
    "Программа должна считывать одну строку со стандартного ввода и выводить для каждого уникального слова в этой строке число его повторений (без учёта регистра) в формате \"слово количество\" (см. пример вывода).\n",
    "Порядок вывода слов может быть произвольным, каждое уникальное слово﻿ должно выводиться только один раз.\n",
    "\n",
    "### Sample Input 1:\n",
    "\n",
    "a aa abC aa ac abc bcd a\n",
    "### Sample Output 1:\n",
    "\n",
    "ac 1\n",
    "a 2\n",
    "abc 2\n",
    "bcd 1\n",
    "aa 2\n",
    "### Sample Input 2:\n",
    "\n",
    "a A a\n",
    "### Sample Output 2:\n",
    "\n",
    "a 3"
   ]
  },
  {
   "cell_type": "code",
   "execution_count": null,
   "id": "a67ce3f8",
   "metadata": {},
   "outputs": [],
   "source": []
  }
 ],
 "metadata": {
  "kernelspec": {
   "display_name": "Python 3 (ipykernel)",
   "language": "python",
   "name": "python3"
  },
  "language_info": {
   "codemirror_mode": {
    "name": "ipython",
    "version": 3
   },
   "file_extension": ".py",
   "mimetype": "text/x-python",
   "name": "python",
   "nbconvert_exporter": "python",
   "pygments_lexer": "ipython3",
   "version": "3.9.13"
  }
 },
 "nbformat": 4,
 "nbformat_minor": 5
}
