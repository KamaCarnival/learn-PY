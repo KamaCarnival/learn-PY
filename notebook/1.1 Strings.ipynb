{
 "cells": [
  {
   "cell_type": "code",
   "execution_count": 2,
   "id": "13bcb504",
   "metadata": {},
   "outputs": [
    {
     "name": "stdout",
     "output_type": "stream",
     "text": [
      "ACCATG\n",
      "2\n"
     ]
    }
   ],
   "source": [
    "genome = input()\n",
    "cnt = 0\n",
    "for nucl in genome:\n",
    "    if nucl == 'C':\n",
    "        cnt+=1\n",
    "print(cnt)\n"
   ]
  },
  {
   "cell_type": "code",
   "execution_count": 3,
   "id": "9b866754",
   "metadata": {},
   "outputs": [
    {
     "name": "stdout",
     "output_type": "stream",
     "text": [
      "ACCATG\n",
      "2\n"
     ]
    }
   ],
   "source": [
    "genome = input()\n",
    "print(genome.count('C'))"
   ]
  },
  {
   "cell_type": "code",
   "execution_count": 4,
   "id": "a298a0f9",
   "metadata": {},
   "outputs": [],
   "source": [
    "s='aTGcc'\n",
    "p='cc'"
   ]
  },
  {
   "cell_type": "code",
   "execution_count": 5,
   "id": "22ab4e17",
   "metadata": {},
   "outputs": [
    {
     "data": {
      "text/plain": [
       "'ATGCC'"
      ]
     },
     "execution_count": 5,
     "metadata": {},
     "output_type": "execute_result"
    }
   ],
   "source": [
    "s.upper()"
   ]
  },
  {
   "cell_type": "code",
   "execution_count": 6,
   "id": "c77aac00",
   "metadata": {},
   "outputs": [
    {
     "data": {
      "text/plain": [
       "'atgcc'"
      ]
     },
     "execution_count": 6,
     "metadata": {},
     "output_type": "execute_result"
    }
   ],
   "source": [
    "s.lower()"
   ]
  },
  {
   "cell_type": "code",
   "execution_count": 7,
   "id": "b26d1374",
   "metadata": {},
   "outputs": [
    {
     "data": {
      "text/plain": [
       "1"
      ]
     },
     "execution_count": 7,
     "metadata": {},
     "output_type": "execute_result"
    }
   ],
   "source": [
    "s.count(p)"
   ]
  },
  {
   "cell_type": "code",
   "execution_count": 8,
   "id": "83e17582",
   "metadata": {},
   "outputs": [
    {
     "data": {
      "text/plain": [
       "3"
      ]
     },
     "execution_count": 8,
     "metadata": {},
     "output_type": "execute_result"
    }
   ],
   "source": [
    "s.find(p)"
   ]
  },
  {
   "cell_type": "code",
   "execution_count": 9,
   "id": "0a9a2c86",
   "metadata": {},
   "outputs": [
    {
     "data": {
      "text/plain": [
       "-1"
      ]
     },
     "execution_count": 9,
     "metadata": {},
     "output_type": "execute_result"
    }
   ],
   "source": [
    "s.find('A')"
   ]
  },
  {
   "cell_type": "code",
   "execution_count": 10,
   "id": "b49acae4",
   "metadata": {},
   "outputs": [
    {
     "name": "stdout",
     "output_type": "stream",
     "text": [
      "find this\n"
     ]
    }
   ],
   "source": [
    "if 'TG' in s:\n",
    "    print('find this')"
   ]
  },
  {
   "cell_type": "code",
   "execution_count": 11,
   "id": "ce9af691",
   "metadata": {},
   "outputs": [
    {
     "data": {
      "text/plain": [
       "'aTGCC'"
      ]
     },
     "execution_count": 11,
     "metadata": {},
     "output_type": "execute_result"
    }
   ],
   "source": [
    "s.replace('c', 'C')"
   ]
  },
  {
   "cell_type": "code",
   "execution_count": 13,
   "id": "54df5cd0",
   "metadata": {},
   "outputs": [
    {
     "data": {
      "text/plain": [
       "2"
      ]
     },
     "execution_count": 13,
     "metadata": {},
     "output_type": "execute_result"
    }
   ],
   "source": [
    "r='agTtcAGtc'\n",
    "r.upper().count('gt'.upper())"
   ]
  },
  {
   "cell_type": "code",
   "execution_count": 14,
   "id": "dde5ab28",
   "metadata": {},
   "outputs": [
    {
     "name": "stdout",
     "output_type": "stream",
     "text": [
      "acggtgttat\n",
      "40.0\n"
     ]
    }
   ],
   "source": [
    "genome = input().upper()\n",
    "l = len(genome)\n",
    "g = genome.count('G')\n",
    "c = genome.count('C')\n",
    "print((g+c)/l*100)"
   ]
  },
  {
   "cell_type": "markdown",
   "id": "734f2426",
   "metadata": {},
   "source": [
    "# Slicing\n"
   ]
  },
  {
   "cell_type": "code",
   "execution_count": 15,
   "id": "6ea6701e",
   "metadata": {},
   "outputs": [],
   "source": [
    "dna = 'ATTCGGAGCT'"
   ]
  },
  {
   "cell_type": "code",
   "execution_count": 16,
   "id": "d9033bb1",
   "metadata": {},
   "outputs": [
    {
     "data": {
      "text/plain": [
       "'T'"
      ]
     },
     "execution_count": 16,
     "metadata": {},
     "output_type": "execute_result"
    }
   ],
   "source": [
    "dna[1]"
   ]
  },
  {
   "cell_type": "code",
   "execution_count": 17,
   "id": "99341bb0",
   "metadata": {},
   "outputs": [
    {
     "data": {
      "text/plain": [
       "'TTC'"
      ]
     },
     "execution_count": 17,
     "metadata": {},
     "output_type": "execute_result"
    }
   ],
   "source": [
    "dna[1:4]"
   ]
  },
  {
   "cell_type": "code",
   "execution_count": 18,
   "id": "6dda9669",
   "metadata": {},
   "outputs": [
    {
     "data": {
      "text/plain": [
       "'ATTC'"
      ]
     },
     "execution_count": 18,
     "metadata": {},
     "output_type": "execute_result"
    }
   ],
   "source": [
    "dna[:4]"
   ]
  },
  {
   "cell_type": "code",
   "execution_count": 19,
   "id": "d68a14a9",
   "metadata": {},
   "outputs": [
    {
     "data": {
      "text/plain": [
       "'GGAGCT'"
      ]
     },
     "execution_count": 19,
     "metadata": {},
     "output_type": "execute_result"
    }
   ],
   "source": [
    "dna[4:]"
   ]
  },
  {
   "cell_type": "code",
   "execution_count": 20,
   "id": "442caae1",
   "metadata": {},
   "outputs": [
    {
     "data": {
      "text/plain": [
       "'AGCT'"
      ]
     },
     "execution_count": 20,
     "metadata": {},
     "output_type": "execute_result"
    }
   ],
   "source": [
    "dna[-4:]"
   ]
  },
  {
   "cell_type": "code",
   "execution_count": 21,
   "id": "db9dffde",
   "metadata": {},
   "outputs": [
    {
     "data": {
      "text/plain": [
       "'TTCGGAGC'"
      ]
     },
     "execution_count": 21,
     "metadata": {},
     "output_type": "execute_result"
    }
   ],
   "source": [
    "dna[1:-1]"
   ]
  },
  {
   "cell_type": "code",
   "execution_count": 22,
   "id": "45f25938",
   "metadata": {},
   "outputs": [
    {
     "data": {
      "text/plain": [
       "'TCGG'"
      ]
     },
     "execution_count": 22,
     "metadata": {},
     "output_type": "execute_result"
    }
   ],
   "source": [
    "dna[1:-1:2]"
   ]
  },
  {
   "cell_type": "code",
   "execution_count": 23,
   "id": "c622ccc0",
   "metadata": {},
   "outputs": [
    {
     "data": {
      "text/plain": [
       "'TCGAGGCTTA'"
      ]
     },
     "execution_count": 23,
     "metadata": {},
     "output_type": "execute_result"
    }
   ],
   "source": [
    "dna[::-1]"
   ]
  },
  {
   "cell_type": "markdown",
   "id": "1c850e86",
   "metadata": {},
   "source": [
    "# палиндром"
   ]
  },
  {
   "cell_type": "code",
   "execution_count": 26,
   "id": "06169b7a",
   "metadata": {},
   "outputs": [
    {
     "name": "stdout",
     "output_type": "stream",
     "text": [
      "asdfdsa\n",
      "Yes\n"
     ]
    }
   ],
   "source": [
    "s = input()\n",
    "i = 0\n",
    "j = len(s) -1\n",
    "is_palindrom = True\n",
    "while i < j:\n",
    "    if s[i]!=s[j]:\n",
    "        is_palindrom = False\n",
    "        break\n",
    "    i+=1\n",
    "    j-=1\n",
    "if is_palindrom:\n",
    "    print('Yes')\n",
    "else:\n",
    "    print('No')\n",
    "    \n"
   ]
  },
  {
   "cell_type": "code",
   "execution_count": 28,
   "id": "59ba918e",
   "metadata": {},
   "outputs": [
    {
     "name": "stdout",
     "output_type": "stream",
     "text": [
      "asdfdsa\n",
      "Yes\n"
     ]
    }
   ],
   "source": [
    "s=input()\n",
    "r =s[::-1]\n",
    "if s==r:\n",
    "    print('Yes')\n",
    "else:\n",
    "    print('No')"
   ]
  },
  {
   "cell_type": "markdown",
   "id": "e9578afb",
   "metadata": {},
   "source": [
    "### Узнав, что ДНК не является случайной строкой, только что поступившие в Институт биоинформатики студенты группы информатиков предложили использовать алгоритм сжатия, который сжимает повторяющиеся символы в строке.\n",
    "\n",
    "Кодирование осуществляется следующим образом:\n",
    "s = 'aaaabbсaa' преобразуется в 'a4b2с1a2', то есть группы одинаковых символов исходной строки заменяются на этот символ и количество его повторений в этой позиции строки.\n",
    "\n",
    "Напишите программу, которая считывает строку, кодирует её предложенным алгоритмом и выводит закодированную последовательность на стандартный вывод. Кодирование должно учитывать регистр символов."
   ]
  },
  {
   "cell_type": "code",
   "execution_count": 14,
   "id": "587f7200",
   "metadata": {},
   "outputs": [
    {
     "name": "stdout",
     "output_type": "stream",
     "text": [
      "aaaabbcaa\n",
      "a4b2c1a2\n"
     ]
    }
   ],
   "source": [
    "dna = input()\n",
    "j = 0\n",
    "tmp = dna[0]\n",
    "code = ''\n",
    "for i in range(len(dna)):\n",
    "    if dna[i]==tmp:\n",
    "        j += 1\n",
    "    else:\n",
    "        code += tmp+str(j)\n",
    "        j = 1\n",
    "        tmp=dna[i]\n",
    "code += tmp+str(j)\n",
    "print(code)\n",
    "        \n",
    "\n"
   ]
  },
  {
   "cell_type": "code",
   "execution_count": 15,
   "id": "fe055c73",
   "metadata": {},
   "outputs": [
    {
     "name": "stdout",
     "output_type": "stream",
     "text": [
      "aaaabbcaa\n",
      "a4b2c1a2"
     ]
    }
   ],
   "source": [
    "genome = input()+' '\n",
    "s = 0\n",
    "n=genome[0]\n",
    "for i in genome:       \n",
    "    if n!=i:\n",
    "        print(n + str(s), end = '')\n",
    "        s=0\n",
    "        n=i\n",
    "    s+=1"
   ]
  },
  {
   "cell_type": "code",
   "execution_count": null,
   "id": "e3ef3393",
   "metadata": {},
   "outputs": [],
   "source": []
  }
 ],
 "metadata": {
  "kernelspec": {
   "display_name": "Python 3 (ipykernel)",
   "language": "python",
   "name": "python3"
  },
  "language_info": {
   "codemirror_mode": {
    "name": "ipython",
    "version": 3
   },
   "file_extension": ".py",
   "mimetype": "text/x-python",
   "name": "python",
   "nbconvert_exporter": "python",
   "pygments_lexer": "ipython3",
   "version": "3.9.13"
  }
 },
 "nbformat": 4,
 "nbformat_minor": 5
}
